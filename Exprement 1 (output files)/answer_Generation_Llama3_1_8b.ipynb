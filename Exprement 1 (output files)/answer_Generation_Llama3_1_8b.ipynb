{
  "cells": [
    {
      "cell_type": "markdown",
      "metadata": {
        "id": "view-in-github",
        "colab_type": "text"
      },
      "source": [
        "<a href=\"https://colab.research.google.com/github/Reemaalt/Detection-of-Hallucination-in-Arabic/blob/main/Exprement%201%20(output%20files)/answer_Generation_Llama3_1_8b.ipynb\" target=\"_parent\"><img src=\"https://colab.research.google.com/assets/colab-badge.svg\" alt=\"Open In Colab\"/></a>"
      ]
    },
    {
      "cell_type": "markdown",
      "metadata": {
        "id": "szF_OmKLd8fk"
      },
      "source": [
        "# stting up"
      ]
    },
    {
      "cell_type": "code",
      "execution_count": 1,
      "metadata": {
        "colab": {
          "base_uri": "https://localhost:8080/"
        },
        "collapsed": true,
        "id": "nIxbYQ7IHQZD",
        "outputId": "97243091-ee38-4328-aeba-db99f768db57"
      },
      "outputs": [
        {
          "output_type": "stream",
          "name": "stdout",
          "text": [
            "Collecting datasets\n",
            "  Downloading datasets-3.3.1-py3-none-any.whl.metadata (19 kB)\n",
            "Requirement already satisfied: filelock in /usr/local/lib/python3.11/dist-packages (from datasets) (3.17.0)\n",
            "Requirement already satisfied: numpy>=1.17 in /usr/local/lib/python3.11/dist-packages (from datasets) (1.26.4)\n",
            "Requirement already satisfied: pyarrow>=15.0.0 in /usr/local/lib/python3.11/dist-packages (from datasets) (17.0.0)\n",
            "Collecting dill<0.3.9,>=0.3.0 (from datasets)\n",
            "  Downloading dill-0.3.8-py3-none-any.whl.metadata (10 kB)\n",
            "Requirement already satisfied: pandas in /usr/local/lib/python3.11/dist-packages (from datasets) (2.2.2)\n",
            "Requirement already satisfied: requests>=2.32.2 in /usr/local/lib/python3.11/dist-packages (from datasets) (2.32.3)\n",
            "Requirement already satisfied: tqdm>=4.66.3 in /usr/local/lib/python3.11/dist-packages (from datasets) (4.67.1)\n",
            "Collecting xxhash (from datasets)\n",
            "  Downloading xxhash-3.5.0-cp311-cp311-manylinux_2_17_x86_64.manylinux2014_x86_64.whl.metadata (12 kB)\n",
            "Collecting multiprocess<0.70.17 (from datasets)\n",
            "  Downloading multiprocess-0.70.16-py311-none-any.whl.metadata (7.2 kB)\n",
            "Requirement already satisfied: fsspec<=2024.12.0,>=2023.1.0 in /usr/local/lib/python3.11/dist-packages (from fsspec[http]<=2024.12.0,>=2023.1.0->datasets) (2024.10.0)\n",
            "Requirement already satisfied: aiohttp in /usr/local/lib/python3.11/dist-packages (from datasets) (3.11.12)\n",
            "Requirement already satisfied: huggingface-hub>=0.24.0 in /usr/local/lib/python3.11/dist-packages (from datasets) (0.28.1)\n",
            "Requirement already satisfied: packaging in /usr/local/lib/python3.11/dist-packages (from datasets) (24.2)\n",
            "Requirement already satisfied: pyyaml>=5.1 in /usr/local/lib/python3.11/dist-packages (from datasets) (6.0.2)\n",
            "Requirement already satisfied: aiohappyeyeballs>=2.3.0 in /usr/local/lib/python3.11/dist-packages (from aiohttp->datasets) (2.4.6)\n",
            "Requirement already satisfied: aiosignal>=1.1.2 in /usr/local/lib/python3.11/dist-packages (from aiohttp->datasets) (1.3.2)\n",
            "Requirement already satisfied: attrs>=17.3.0 in /usr/local/lib/python3.11/dist-packages (from aiohttp->datasets) (25.1.0)\n",
            "Requirement already satisfied: frozenlist>=1.1.1 in /usr/local/lib/python3.11/dist-packages (from aiohttp->datasets) (1.5.0)\n",
            "Requirement already satisfied: multidict<7.0,>=4.5 in /usr/local/lib/python3.11/dist-packages (from aiohttp->datasets) (6.1.0)\n",
            "Requirement already satisfied: propcache>=0.2.0 in /usr/local/lib/python3.11/dist-packages (from aiohttp->datasets) (0.2.1)\n",
            "Requirement already satisfied: yarl<2.0,>=1.17.0 in /usr/local/lib/python3.11/dist-packages (from aiohttp->datasets) (1.18.3)\n",
            "Requirement already satisfied: typing-extensions>=3.7.4.3 in /usr/local/lib/python3.11/dist-packages (from huggingface-hub>=0.24.0->datasets) (4.12.2)\n",
            "Requirement already satisfied: charset-normalizer<4,>=2 in /usr/local/lib/python3.11/dist-packages (from requests>=2.32.2->datasets) (3.4.1)\n",
            "Requirement already satisfied: idna<4,>=2.5 in /usr/local/lib/python3.11/dist-packages (from requests>=2.32.2->datasets) (3.10)\n",
            "Requirement already satisfied: urllib3<3,>=1.21.1 in /usr/local/lib/python3.11/dist-packages (from requests>=2.32.2->datasets) (2.3.0)\n",
            "Requirement already satisfied: certifi>=2017.4.17 in /usr/local/lib/python3.11/dist-packages (from requests>=2.32.2->datasets) (2025.1.31)\n",
            "Requirement already satisfied: python-dateutil>=2.8.2 in /usr/local/lib/python3.11/dist-packages (from pandas->datasets) (2.8.2)\n",
            "Requirement already satisfied: pytz>=2020.1 in /usr/local/lib/python3.11/dist-packages (from pandas->datasets) (2025.1)\n",
            "Requirement already satisfied: tzdata>=2022.7 in /usr/local/lib/python3.11/dist-packages (from pandas->datasets) (2025.1)\n",
            "Requirement already satisfied: six>=1.5 in /usr/local/lib/python3.11/dist-packages (from python-dateutil>=2.8.2->pandas->datasets) (1.17.0)\n",
            "Downloading datasets-3.3.1-py3-none-any.whl (484 kB)\n",
            "\u001b[2K   \u001b[90m━━━━━━━━━━━━━━━━━━━━━━━━━━━━━━━━━━━━━━━━\u001b[0m \u001b[32m484.9/484.9 kB\u001b[0m \u001b[31m34.0 MB/s\u001b[0m eta \u001b[36m0:00:00\u001b[0m\n",
            "\u001b[?25hDownloading dill-0.3.8-py3-none-any.whl (116 kB)\n",
            "\u001b[2K   \u001b[90m━━━━━━━━━━━━━━━━━━━━━━━━━━━━━━━━━━━━━━━━\u001b[0m \u001b[32m116.3/116.3 kB\u001b[0m \u001b[31m13.5 MB/s\u001b[0m eta \u001b[36m0:00:00\u001b[0m\n",
            "\u001b[?25hDownloading multiprocess-0.70.16-py311-none-any.whl (143 kB)\n",
            "\u001b[2K   \u001b[90m━━━━━━━━━━━━━━━━━━━━━━━━━━━━━━━━━━━━━━━━\u001b[0m \u001b[32m143.5/143.5 kB\u001b[0m \u001b[31m17.9 MB/s\u001b[0m eta \u001b[36m0:00:00\u001b[0m\n",
            "\u001b[?25hDownloading xxhash-3.5.0-cp311-cp311-manylinux_2_17_x86_64.manylinux2014_x86_64.whl (194 kB)\n",
            "\u001b[2K   \u001b[90m━━━━━━━━━━━━━━━━━━━━━━━━━━━━━━━━━━━━━━━━\u001b[0m \u001b[32m194.8/194.8 kB\u001b[0m \u001b[31m22.5 MB/s\u001b[0m eta \u001b[36m0:00:00\u001b[0m\n",
            "\u001b[?25hInstalling collected packages: xxhash, dill, multiprocess, datasets\n",
            "Successfully installed datasets-3.3.1 dill-0.3.8 multiprocess-0.70.16 xxhash-3.5.0\n",
            "\n",
            "    _|    _|  _|    _|    _|_|_|    _|_|_|  _|_|_|  _|      _|    _|_|_|      _|_|_|_|    _|_|      _|_|_|  _|_|_|_|\n",
            "    _|    _|  _|    _|  _|        _|          _|    _|_|    _|  _|            _|        _|    _|  _|        _|\n",
            "    _|_|_|_|  _|    _|  _|  _|_|  _|  _|_|    _|    _|  _|  _|  _|  _|_|      _|_|_|    _|_|_|_|  _|        _|_|_|\n",
            "    _|    _|  _|    _|  _|    _|  _|    _|    _|    _|    _|_|  _|    _|      _|        _|    _|  _|        _|\n",
            "    _|    _|    _|_|      _|_|_|    _|_|_|  _|_|_|  _|      _|    _|_|_|      _|        _|    _|    _|_|_|  _|_|_|_|\n",
            "\n",
            "    To log in, `huggingface_hub` requires a token generated from https://huggingface.co/settings/tokens .\n",
            "Enter your token (input will not be visible): \n",
            "Add token as git credential? (Y/n) n\n",
            "Token is valid (permission: fineGrained).\n",
            "The token `week1 test` has been saved to /root/.cache/huggingface/stored_tokens\n",
            "Your token has been saved to /root/.cache/huggingface/token\n",
            "Login successful.\n",
            "The current active token is: `week1 test`\n"
          ]
        }
      ],
      "source": [
        "!pip install datasets\n",
        "!huggingface-cli login"
      ]
    },
    {
      "cell_type": "code",
      "execution_count": 2,
      "metadata": {
        "id": "hZZfckUYHunp"
      },
      "outputs": [],
      "source": [
        "import os\n",
        "import torch\n",
        "import json\n",
        "import pandas as pd\n",
        "from google.colab import files\n",
        "from transformers import AutoModelForCausalLM, AutoTokenizer, pipeline\n",
        "from IPython.display import FileLink, display\n",
        "from datasets import load_dataset"
      ]
    },
    {
      "cell_type": "markdown",
      "metadata": {
        "id": "Vrb9tgoj4mbR"
      },
      "source": [
        "#**loading the model**"
      ]
    },
    {
      "cell_type": "code",
      "execution_count": 6,
      "metadata": {
        "colab": {
          "base_uri": "https://localhost:8080/",
          "height": 101,
          "referenced_widgets": [
            "985f50faba424e3592f3249b33961783",
            "46d7c7a629944de6b591b2ac3deceb5b",
            "9e3478215dd74abe98ecf46c90d736c6",
            "dc31a2d5c07f4b3bbc3e82402a307394",
            "7161805a88304881a509dfd6fc0222e7",
            "edb898ca7c874a9a805c1f9b86f02603",
            "bbdb24f2f84a4e9b904b35bccff33519",
            "b2754fa8b05a4ed28ed1eec728d2c046",
            "fa12493b2c774af0af9d1384c292aa0e",
            "9a15c68c81e54c2ebfabab973ea53b6c",
            "cb74d59ad4264137909c04275e69237c"
          ]
        },
        "id": "LdiXFgPmH059",
        "outputId": "0c4a60a2-c142-472d-cf68-c2fd43236042"
      },
      "outputs": [
        {
          "output_type": "display_data",
          "data": {
            "text/plain": [
              "Loading checkpoint shards:   0%|          | 0/4 [00:00<?, ?it/s]"
            ],
            "application/vnd.jupyter.widget-view+json": {
              "version_major": 2,
              "version_minor": 0,
              "model_id": "985f50faba424e3592f3249b33961783"
            }
          },
          "metadata": {}
        },
        {
          "output_type": "stream",
          "name": "stderr",
          "text": [
            "Device set to use cuda:0\n",
            "Setting `pad_token_id` to `eos_token_id`:128001 for open-end generation.\n"
          ]
        },
        {
          "output_type": "stream",
          "name": "stdout",
          "text": [
            "[{'generated_text': 'كم عمرك؟ 1. How old are you?\\nأنا في الثامنة عشر 2. I am'}]\n"
          ]
        }
      ],
      "source": [
        "# Load the model and tokenizer\n",
        "model_id = \"meta-llama/Llama-3.1-8B\"\n",
        "\n",
        "model = AutoModelForCausalLM.from_pretrained(\n",
        "    model_id,\n",
        "    torch_dtype=torch.float16,\n",
        "    device_map=\"auto\"\n",
        ")\n",
        "tokenizer = AutoTokenizer.from_pretrained(model_id)\n",
        "\n",
        "# Create the text generation pipeline\n",
        "pipeline = pipeline(\n",
        "    'text-generation',\n",
        "    model=model,\n",
        "    tokenizer=tokenizer\n",
        ")\n",
        "\n",
        "# Test the pipeline\n",
        "print(pipeline(\"كم عمرك؟\"))\n"
      ]
    },
    {
      "cell_type": "markdown",
      "metadata": {
        "id": "o_Aawiu4-bpu"
      },
      "source": [
        "# helper functions"
      ]
    },
    {
      "cell_type": "code",
      "execution_count": null,
      "metadata": {
        "id": "Ak-90ZjUEqnJ"
      },
      "outputs": [],
      "source": [
        "torch.cuda.empty_cache()"
      ]
    },
    {
      "cell_type": "markdown",
      "source": [
        "with the likelihood:)"
      ],
      "metadata": {
        "id": "h1sEmxzGpD9Y"
      }
    },
    {
      "cell_type": "code",
      "source": [
        "def generate_answer(question, num_samples, model, tokenizer):\n",
        "    prompt = f\" أجب على السؤال التالي بجملة واحدة موجزة ولكن كاملة باللغة العربية.\\nQuestion: {question}\\nAnswer:\"\n",
        "\n",
        "    # Tokenize the prompt\n",
        "    prompt_tokens = tokenizer(prompt, return_tensors=\"pt\").to(model.device)\n",
        "\n",
        "    # Generate responses\n",
        "    outputs = model.generate(\n",
        "        **prompt_tokens,\n",
        "        max_length=100,\n",
        "        do_sample=True,\n",
        "        temperature=0.5,\n",
        "        top_p=0.95,\n",
        "        num_return_sequences=num_samples,\n",
        "        return_dict_in_generate=True,\n",
        "        output_scores=True,\n",
        "    )\n",
        "\n",
        "    # Extract generated sequences and scores\n",
        "    sequences = outputs.sequences\n",
        "    scores = outputs.scores\n",
        "\n",
        "    # Process each generated sequence\n",
        "    results = []\n",
        "    for i, seq in enumerate(sequences):\n",
        "        # Get the text\n",
        "        decoded_text = tokenizer.decode(seq, skip_special_tokens=True)\n",
        "        answer = decoded_text.split(\"Answer:\")[-1].strip()\n",
        "\n",
        "        # Calculate log probabilities (similar to reference code)\n",
        "        # We'll use model.forward to get detailed probabilities\n",
        "        with torch.no_grad():\n",
        "            # Only consider tokens after the prompt\n",
        "            prompt_length = len(prompt_tokens.input_ids[0])\n",
        "            gen_tokens = seq[prompt_length-1:]  # Include one overlap token\n",
        "\n",
        "            # Feed the sequence to the model\n",
        "            target_ids = gen_tokens.clone()\n",
        "            target_ids[0] = -100  # so it Dose't compute loss for the overlap token\n",
        "            model_output = model(torch.reshape(gen_tokens, (1, -1)), labels=target_ids)\n",
        "\n",
        "            # Get average negative log likelihood\n",
        "            avg_neg_log_likelihood = model_output.loss\n",
        "\n",
        "        results.append({\n",
        "            'text': answer,\n",
        "            'avg_neg_log_likelihood': avg_neg_log_likelihood.item(),\n",
        "        })\n",
        "\n",
        "    return results"
      ],
      "metadata": {
        "id": "LcJmBpjtpCtS"
      },
      "execution_count": 7,
      "outputs": []
    },
    {
      "cell_type": "markdown",
      "metadata": {
        "id": "mPnsRg4fdkhW"
      },
      "source": [
        "# main function to to load questions and gerate answers and save them to a file"
      ]
    },
    {
      "cell_type": "code",
      "execution_count": 8,
      "metadata": {
        "colab": {
          "base_uri": "https://localhost:8080/",
          "height": 540
        },
        "id": "2IASg578hPqX",
        "outputId": "d27e86fe-17cd-4835-d375-69ac139b3e80"
      },
      "outputs": [
        {
          "output_type": "stream",
          "name": "stderr",
          "text": [
            "Setting `pad_token_id` to `eos_token_id`:128001 for open-end generation.\n",
            "From v4.47 onwards, when a model cache is to be returned, `generate` will return a `Cache` instance instead by default (as opposed to the legacy tuple of tuples format). If you want to keep returning the legacy format, please set `return_legacy_cache=True`.\n",
            "Setting `pad_token_id` to `eos_token_id`:128001 for open-end generation.\n",
            "Setting `pad_token_id` to `eos_token_id`:128001 for open-end generation.\n"
          ]
        },
        {
          "output_type": "stream",
          "name": "stdout",
          "text": [
            "   question_id                                           question  \\\n",
            "0          861  ما هي الأدلة التي وجدتها بعض الدراسات التي أجر...   \n",
            "1          752                       ‏ما الهدف من هذه الاحتجاجات؟   \n",
            "2          119                 ماذا كان اسما شريكي تسلا الجديدين؟   \n",
            "\n",
            "                                     original_answer  \\\n",
            "0  {'text': ['فرضية منحنى كوزنتس'], 'answer_start...   \n",
            "1  {'text': ['الوصول إلى النقاش'], 'answer_start'...   \n",
            "2  {'text': ['روبرت لين و بنجامين فايل'], 'answer...   \n",
            "\n",
            "                                   generated_answers  \\\n",
            "0  [Some studies found evidence of inequality in ...   \n",
            "1  [هذه الاحتجاجات تهدف إلى إعادة إحي, ‏الاحتجاجا...   \n",
            "2  [Tesla, 2.3.4.5.6.7.8.9.10.11.12.13.14.15.16.1...   \n",
            "\n",
            "                             avg_neg_log_likelihoods  \\\n",
            "0  [1.9014533758163452, 1.3061416149139404, 1.671...   \n",
            "1  [1.0341473817825317, 1.6188511848449707, 1.559...   \n",
            "2  [1.3906586170196533, 0.45449647307395935, 21.5...   \n",
            "\n",
            "                           total_neg_log_likelihoods  \n",
            "0  [96.97412109375, 66.61322021484375, 85.2295608...  \n",
            "1  [66.18543243408203, 103.60647583007812, 99.833...  \n",
            "2  [84.8301773071289, 27.724285125732422, 1311.95...  \n",
            "Generated answers saved to 'generated_answers.json'\n"
          ]
        },
        {
          "output_type": "display_data",
          "data": {
            "text/plain": [
              "<IPython.core.display.Javascript object>"
            ],
            "application/javascript": [
              "\n",
              "    async function download(id, filename, size) {\n",
              "      if (!google.colab.kernel.accessAllowed) {\n",
              "        return;\n",
              "      }\n",
              "      const div = document.createElement('div');\n",
              "      const label = document.createElement('label');\n",
              "      label.textContent = `Downloading \"${filename}\": `;\n",
              "      div.appendChild(label);\n",
              "      const progress = document.createElement('progress');\n",
              "      progress.max = size;\n",
              "      div.appendChild(progress);\n",
              "      document.body.appendChild(div);\n",
              "\n",
              "      const buffers = [];\n",
              "      let downloaded = 0;\n",
              "\n",
              "      const channel = await google.colab.kernel.comms.open(id);\n",
              "      // Send a message to notify the kernel that we're ready.\n",
              "      channel.send({})\n",
              "\n",
              "      for await (const message of channel.messages) {\n",
              "        // Send a message to notify the kernel that we're ready.\n",
              "        channel.send({})\n",
              "        if (message.buffers) {\n",
              "          for (const buffer of message.buffers) {\n",
              "            buffers.push(buffer);\n",
              "            downloaded += buffer.byteLength;\n",
              "            progress.value = downloaded;\n",
              "          }\n",
              "        }\n",
              "      }\n",
              "      const blob = new Blob(buffers, {type: 'application/binary'});\n",
              "      const a = document.createElement('a');\n",
              "      a.href = window.URL.createObjectURL(blob);\n",
              "      a.download = filename;\n",
              "      div.appendChild(a);\n",
              "      a.click();\n",
              "      div.remove();\n",
              "    }\n",
              "  "
            ]
          },
          "metadata": {}
        },
        {
          "output_type": "display_data",
          "data": {
            "text/plain": [
              "<IPython.core.display.Javascript object>"
            ],
            "application/javascript": [
              "download(\"download_f7313200-f98f-48aa-8f4e-4f7ae67dc214\", \"generated_answers_Llama3.1-mlqa.json\", 6869)"
            ]
          },
          "metadata": {}
        }
      ],
      "source": [
        "# Main function\n",
        "def main():\n",
        "\n",
        "    # Step 1: LOAD DATA\n",
        "    file_path = '/content/train-open.json'\n",
        "\n",
        "    if os.path.exists(file_path):\n",
        "\n",
        "        print(\"File found\")\n",
        "        with open(file_path, 'r', encoding='utf-8') as json_file:\n",
        "            data = json.load(json_file)\n",
        "    else:\n",
        "\n",
        "      # Load the XQuAD dataset for Arabic (ar)\n",
        "      xquad_dataset = load_dataset(\"xquad\", \"xquad.ar\")\n",
        "      # Load the validation set (the only available split)\n",
        "      test_set = xquad_dataset['validation']\n",
        "\n",
        "     # Create an empty list to store the data\n",
        "      data = []\n",
        "      # Loop through  and collect data\n",
        "      for i in range(len(test_set)):  # Loop through all samples\n",
        "          context = test_set[i]['context']\n",
        "          question = test_set[i]['question']\n",
        "          answer = test_set[i]['answers']\n",
        "          # Append the data as a dictionary to the list\n",
        "          data.append({\n",
        "                  \"Context\": context,\n",
        "                  \"Question\": question,\n",
        "                  \"Answer\": answer\n",
        "            })\n",
        "    # Convert the list of dictionaries to a pandas DataFram\n",
        "    df = pd.DataFrame(data)\n",
        "\n",
        "\n",
        "  # Step 2: GENERATE ANSWERS\n",
        "  #empty list to store the results\n",
        "    results = []\n",
        "\n",
        "    for index, row in df.iterrows():\n",
        "        question = row['Question']\n",
        "        original_answer = row.get('Answer', \"\")  # Use empty string if no original answer provided\n",
        "        question_id = row.get('question_id')\n",
        "\n",
        "        # Generate 10 answers with log probabilities for each question\n",
        "        generated_results = generate_answer(question=question, num_samples=10, model=model, tokenizer=tokenizer)\n",
        "        # Extract text answers and log probabilities\n",
        "        generated_answers = [result['text'] for result in generated_results]\n",
        "        avg_neg_log_likelihoods = [result['avg_neg_log_likelihood'] for result in generated_results]\n",
        "\n",
        "        # Append the results\n",
        "        results.append({\n",
        "            \"question_id\": question_id,\n",
        "            \"question\": question,\n",
        "            \"original_answer\": original_answer,\n",
        "            \"generated_answers\": generated_answers,\n",
        "            \"avg_neg_log_likelihoods\": avg_neg_log_likelihoods,\n",
        "        })\n",
        "    # Convert the results to a DataFrame\n",
        "    results_df = pd.DataFrame(results)\n",
        "    print(results_df)\n",
        "\n",
        "    #SAVE GENERATION\n",
        "    filename = \"generated_answers_Llama3.1-xquadALLdataset-LOG.json\"\n",
        "\n",
        "    with open(filename, \"w\", encoding=\"utf-8\") as json_file:\n",
        "          json.dump(results, json_file, ensure_ascii=False, indent=4)\n",
        "\n",
        "    print(\"Generated answers saved to 'generated_answers.json'\")\n",
        "    files.download(filename)\n",
        "\n",
        "\n",
        "# Run the main function\n",
        "if __name__ == \"__main__\":\n",
        "    main()"
      ]
    }
  ],
  "metadata": {
    "accelerator": "GPU",
    "colab": {
      "gpuType": "L4",
      "machine_shape": "hm",
      "provenance": [],
      "authorship_tag": "ABX9TyPzNsa6LrGlQmouZ4iwKsHX",
      "include_colab_link": true
    },
    "kernelspec": {
      "display_name": "Python 3",
      "name": "python3"
    },
    "language_info": {
      "name": "python"
    },
    "widgets": {
      "application/vnd.jupyter.widget-state+json": {
        "985f50faba424e3592f3249b33961783": {
          "model_module": "@jupyter-widgets/controls",
          "model_name": "HBoxModel",
          "model_module_version": "1.5.0",
          "state": {
            "_dom_classes": [],
            "_model_module": "@jupyter-widgets/controls",
            "_model_module_version": "1.5.0",
            "_model_name": "HBoxModel",
            "_view_count": null,
            "_view_module": "@jupyter-widgets/controls",
            "_view_module_version": "1.5.0",
            "_view_name": "HBoxView",
            "box_style": "",
            "children": [
              "IPY_MODEL_46d7c7a629944de6b591b2ac3deceb5b",
              "IPY_MODEL_9e3478215dd74abe98ecf46c90d736c6",
              "IPY_MODEL_dc31a2d5c07f4b3bbc3e82402a307394"
            ],
            "layout": "IPY_MODEL_7161805a88304881a509dfd6fc0222e7"
          }
        },
        "46d7c7a629944de6b591b2ac3deceb5b": {
          "model_module": "@jupyter-widgets/controls",
          "model_name": "HTMLModel",
          "model_module_version": "1.5.0",
          "state": {
            "_dom_classes": [],
            "_model_module": "@jupyter-widgets/controls",
            "_model_module_version": "1.5.0",
            "_model_name": "HTMLModel",
            "_view_count": null,
            "_view_module": "@jupyter-widgets/controls",
            "_view_module_version": "1.5.0",
            "_view_name": "HTMLView",
            "description": "",
            "description_tooltip": null,
            "layout": "IPY_MODEL_edb898ca7c874a9a805c1f9b86f02603",
            "placeholder": "​",
            "style": "IPY_MODEL_bbdb24f2f84a4e9b904b35bccff33519",
            "value": "Loading checkpoint shards: 100%"
          }
        },
        "9e3478215dd74abe98ecf46c90d736c6": {
          "model_module": "@jupyter-widgets/controls",
          "model_name": "FloatProgressModel",
          "model_module_version": "1.5.0",
          "state": {
            "_dom_classes": [],
            "_model_module": "@jupyter-widgets/controls",
            "_model_module_version": "1.5.0",
            "_model_name": "FloatProgressModel",
            "_view_count": null,
            "_view_module": "@jupyter-widgets/controls",
            "_view_module_version": "1.5.0",
            "_view_name": "ProgressView",
            "bar_style": "success",
            "description": "",
            "description_tooltip": null,
            "layout": "IPY_MODEL_b2754fa8b05a4ed28ed1eec728d2c046",
            "max": 4,
            "min": 0,
            "orientation": "horizontal",
            "style": "IPY_MODEL_fa12493b2c774af0af9d1384c292aa0e",
            "value": 4
          }
        },
        "dc31a2d5c07f4b3bbc3e82402a307394": {
          "model_module": "@jupyter-widgets/controls",
          "model_name": "HTMLModel",
          "model_module_version": "1.5.0",
          "state": {
            "_dom_classes": [],
            "_model_module": "@jupyter-widgets/controls",
            "_model_module_version": "1.5.0",
            "_model_name": "HTMLModel",
            "_view_count": null,
            "_view_module": "@jupyter-widgets/controls",
            "_view_module_version": "1.5.0",
            "_view_name": "HTMLView",
            "description": "",
            "description_tooltip": null,
            "layout": "IPY_MODEL_9a15c68c81e54c2ebfabab973ea53b6c",
            "placeholder": "​",
            "style": "IPY_MODEL_cb74d59ad4264137909c04275e69237c",
            "value": " 4/4 [00:09&lt;00:00,  2.24s/it]"
          }
        },
        "7161805a88304881a509dfd6fc0222e7": {
          "model_module": "@jupyter-widgets/base",
          "model_name": "LayoutModel",
          "model_module_version": "1.2.0",
          "state": {
            "_model_module": "@jupyter-widgets/base",
            "_model_module_version": "1.2.0",
            "_model_name": "LayoutModel",
            "_view_count": null,
            "_view_module": "@jupyter-widgets/base",
            "_view_module_version": "1.2.0",
            "_view_name": "LayoutView",
            "align_content": null,
            "align_items": null,
            "align_self": null,
            "border": null,
            "bottom": null,
            "display": null,
            "flex": null,
            "flex_flow": null,
            "grid_area": null,
            "grid_auto_columns": null,
            "grid_auto_flow": null,
            "grid_auto_rows": null,
            "grid_column": null,
            "grid_gap": null,
            "grid_row": null,
            "grid_template_areas": null,
            "grid_template_columns": null,
            "grid_template_rows": null,
            "height": null,
            "justify_content": null,
            "justify_items": null,
            "left": null,
            "margin": null,
            "max_height": null,
            "max_width": null,
            "min_height": null,
            "min_width": null,
            "object_fit": null,
            "object_position": null,
            "order": null,
            "overflow": null,
            "overflow_x": null,
            "overflow_y": null,
            "padding": null,
            "right": null,
            "top": null,
            "visibility": null,
            "width": null
          }
        },
        "edb898ca7c874a9a805c1f9b86f02603": {
          "model_module": "@jupyter-widgets/base",
          "model_name": "LayoutModel",
          "model_module_version": "1.2.0",
          "state": {
            "_model_module": "@jupyter-widgets/base",
            "_model_module_version": "1.2.0",
            "_model_name": "LayoutModel",
            "_view_count": null,
            "_view_module": "@jupyter-widgets/base",
            "_view_module_version": "1.2.0",
            "_view_name": "LayoutView",
            "align_content": null,
            "align_items": null,
            "align_self": null,
            "border": null,
            "bottom": null,
            "display": null,
            "flex": null,
            "flex_flow": null,
            "grid_area": null,
            "grid_auto_columns": null,
            "grid_auto_flow": null,
            "grid_auto_rows": null,
            "grid_column": null,
            "grid_gap": null,
            "grid_row": null,
            "grid_template_areas": null,
            "grid_template_columns": null,
            "grid_template_rows": null,
            "height": null,
            "justify_content": null,
            "justify_items": null,
            "left": null,
            "margin": null,
            "max_height": null,
            "max_width": null,
            "min_height": null,
            "min_width": null,
            "object_fit": null,
            "object_position": null,
            "order": null,
            "overflow": null,
            "overflow_x": null,
            "overflow_y": null,
            "padding": null,
            "right": null,
            "top": null,
            "visibility": null,
            "width": null
          }
        },
        "bbdb24f2f84a4e9b904b35bccff33519": {
          "model_module": "@jupyter-widgets/controls",
          "model_name": "DescriptionStyleModel",
          "model_module_version": "1.5.0",
          "state": {
            "_model_module": "@jupyter-widgets/controls",
            "_model_module_version": "1.5.0",
            "_model_name": "DescriptionStyleModel",
            "_view_count": null,
            "_view_module": "@jupyter-widgets/base",
            "_view_module_version": "1.2.0",
            "_view_name": "StyleView",
            "description_width": ""
          }
        },
        "b2754fa8b05a4ed28ed1eec728d2c046": {
          "model_module": "@jupyter-widgets/base",
          "model_name": "LayoutModel",
          "model_module_version": "1.2.0",
          "state": {
            "_model_module": "@jupyter-widgets/base",
            "_model_module_version": "1.2.0",
            "_model_name": "LayoutModel",
            "_view_count": null,
            "_view_module": "@jupyter-widgets/base",
            "_view_module_version": "1.2.0",
            "_view_name": "LayoutView",
            "align_content": null,
            "align_items": null,
            "align_self": null,
            "border": null,
            "bottom": null,
            "display": null,
            "flex": null,
            "flex_flow": null,
            "grid_area": null,
            "grid_auto_columns": null,
            "grid_auto_flow": null,
            "grid_auto_rows": null,
            "grid_column": null,
            "grid_gap": null,
            "grid_row": null,
            "grid_template_areas": null,
            "grid_template_columns": null,
            "grid_template_rows": null,
            "height": null,
            "justify_content": null,
            "justify_items": null,
            "left": null,
            "margin": null,
            "max_height": null,
            "max_width": null,
            "min_height": null,
            "min_width": null,
            "object_fit": null,
            "object_position": null,
            "order": null,
            "overflow": null,
            "overflow_x": null,
            "overflow_y": null,
            "padding": null,
            "right": null,
            "top": null,
            "visibility": null,
            "width": null
          }
        },
        "fa12493b2c774af0af9d1384c292aa0e": {
          "model_module": "@jupyter-widgets/controls",
          "model_name": "ProgressStyleModel",
          "model_module_version": "1.5.0",
          "state": {
            "_model_module": "@jupyter-widgets/controls",
            "_model_module_version": "1.5.0",
            "_model_name": "ProgressStyleModel",
            "_view_count": null,
            "_view_module": "@jupyter-widgets/base",
            "_view_module_version": "1.2.0",
            "_view_name": "StyleView",
            "bar_color": null,
            "description_width": ""
          }
        },
        "9a15c68c81e54c2ebfabab973ea53b6c": {
          "model_module": "@jupyter-widgets/base",
          "model_name": "LayoutModel",
          "model_module_version": "1.2.0",
          "state": {
            "_model_module": "@jupyter-widgets/base",
            "_model_module_version": "1.2.0",
            "_model_name": "LayoutModel",
            "_view_count": null,
            "_view_module": "@jupyter-widgets/base",
            "_view_module_version": "1.2.0",
            "_view_name": "LayoutView",
            "align_content": null,
            "align_items": null,
            "align_self": null,
            "border": null,
            "bottom": null,
            "display": null,
            "flex": null,
            "flex_flow": null,
            "grid_area": null,
            "grid_auto_columns": null,
            "grid_auto_flow": null,
            "grid_auto_rows": null,
            "grid_column": null,
            "grid_gap": null,
            "grid_row": null,
            "grid_template_areas": null,
            "grid_template_columns": null,
            "grid_template_rows": null,
            "height": null,
            "justify_content": null,
            "justify_items": null,
            "left": null,
            "margin": null,
            "max_height": null,
            "max_width": null,
            "min_height": null,
            "min_width": null,
            "object_fit": null,
            "object_position": null,
            "order": null,
            "overflow": null,
            "overflow_x": null,
            "overflow_y": null,
            "padding": null,
            "right": null,
            "top": null,
            "visibility": null,
            "width": null
          }
        },
        "cb74d59ad4264137909c04275e69237c": {
          "model_module": "@jupyter-widgets/controls",
          "model_name": "DescriptionStyleModel",
          "model_module_version": "1.5.0",
          "state": {
            "_model_module": "@jupyter-widgets/controls",
            "_model_module_version": "1.5.0",
            "_model_name": "DescriptionStyleModel",
            "_view_count": null,
            "_view_module": "@jupyter-widgets/base",
            "_view_module_version": "1.2.0",
            "_view_name": "StyleView",
            "description_width": ""
          }
        }
      }
    }
  },
  "nbformat": 4,
  "nbformat_minor": 0
}