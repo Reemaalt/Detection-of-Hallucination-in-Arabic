{
  "nbformat": 4,
  "nbformat_minor": 0,
  "metadata": {
    "colab": {
      "provenance": [],
      "machine_shape": "hm",
      "gpuType": "L4",
      "authorship_tag": "ABX9TyNB6VwdHjD4roHj0J/HUfuR",
      "include_colab_link": true
    },
    "kernelspec": {
      "name": "python3",
      "display_name": "Python 3"
    },
    "language_info": {
      "name": "python"
    },
    "accelerator": "GPU"
  },
  "cells": [
    {
      "cell_type": "markdown",
      "metadata": {
        "id": "view-in-github",
        "colab_type": "text"
      },
      "source": [
        "<a href=\"https://colab.research.google.com/github/Reemaalt/Detection-of-Hallucination-in-Arabic/blob/main/our%20framework%20code/semantic_entropy.ipynb\" target=\"_parent\"><img src=\"https://colab.research.google.com/assets/colab-badge.svg\" alt=\"Open In Colab\"/></a>"
      ]
    },
    {
      "cell_type": "markdown",
      "source": [
        "- Estimate the probability of each cluster.\n",
        "- Use Monte Carlo integration to compute semantic entropy."
      ],
      "metadata": {
        "id": "e6i8_59fWv9q"
      }
    },
    {
      "cell_type": "code",
      "source": [
        "import json\n",
        "import os\n",
        "import numpy as np\n",
        "import torch\n",
        "from google.colab import files\n",
        "import re"
      ],
      "metadata": {
        "id": "Xj6HD8gwVBMK"
      },
      "execution_count": 4,
      "outputs": []
    },
    {
      "cell_type": "markdown",
      "source": [],
      "metadata": {
        "id": "U9fKPVybUFIL"
      }
    },
    {
      "cell_type": "code",
      "source": [
        "def compute_cluster_log_probabilities(clusters):\n",
        "    # Get negative log-likelihoods for each cluster\n",
        "    neg_llh = [cluster['total_neg_log_likelihoods_for_cluster'] for cluster in clusters]\n",
        "    log_probs = [-nll for nll in neg_llh]  # Convert to log probabilities\n",
        "\n",
        "    # Log-normalize using log-sum-exp trick for numerical stability\n",
        "    max_log_prob = max(log_probs)\n",
        "    log_sum = max_log_prob + np.log(sum(np.exp(lp - max_log_prob) for lp in log_probs))\n",
        "    norm_log_probs = [lp - log_sum for lp in log_probs]\n",
        "\n",
        "    return norm_log_probs\n",
        "\n",
        "def compute_semantic_entropy(log_probabilities):\n",
        "   # form their code  entropy = - torch.sum(aggregated_likelihoods, dim=0) / torch.tensor(aggregated_likelihoods.shape[0])\n",
        "    return -np.sum(log_probabilities) / len(log_probabilities)\n"
      ],
      "metadata": {
        "id": "vzpzYM7fj6Ow"
      },
      "execution_count": 17,
      "outputs": []
    },
    {
      "cell_type": "code",
      "source": [
        "def process_clustered_data(clustered_data):\n",
        "    entropy_results = {}\n",
        "    for question_id, data in clustered_data.items():\n",
        "        clusters = data[\"clusters\"]\n",
        "\n",
        "        # Step 1: Compute cluster probabilities\n",
        "        probabilities = compute_cluster_log_probabilities(clusters)\n",
        "\n",
        "        # Step 2: Compute semantic entropy\n",
        "        entropy = compute_semantic_entropy(probabilities)\n",
        "\n",
        "        # Store results\n",
        "        entropy_results[question_id] = {\n",
        "            \"question\": data[\"question\"],\n",
        "            \"semantic_entropy\": entropy,\n",
        "            \"num_clusters\": len(clusters),\n",
        "            \"answers\" : clusters,\n",
        "            \"cluster_probabilities\": probabilities\n",
        "        }\n",
        "    return entropy_results\n"
      ],
      "metadata": {
        "id": "rO9ZNtBJV0IR"
      },
      "execution_count": 19,
      "outputs": []
    },
    {
      "cell_type": "code",
      "source": [
        "# Load input data\n",
        "input_file = \"/content/entailment_clusters_Qwen2-7B-xor_tydiqa.json\"\n",
        "\n",
        "\n",
        "with open(input_file, \"r\", encoding=\"utf-8\") as f:\n",
        "    clustered_data = json.load(f)\n",
        "print(f\"Loaded {len(clustered_data)} questions with clustered answers.\")\n",
        "\n",
        "# Extract model name and dataset name\n",
        "input_filename = os.path.basename(input_file)\n",
        "match = re.search(r'entailment_clusters_(.+?)_(.+?)\\.json', input_filename)\n",
        "model_name = match.group(1)\n",
        "dataset_name = match.group(2)\n",
        "\n",
        "# Calculate results\n",
        "entropy_results = process_clustered_data(clustered_data)\n",
        "\n",
        "# Save output\n",
        "output_file = f\"semantic_entropy_{model_name}_{dataset_name}.json\"\n",
        "\n",
        "with open(output_file, \"w\", encoding=\"utf-8\") as f:\n",
        "    json.dump(entropy_results, f, ensure_ascii=False, indent=4)\n",
        "\n",
        "print(\"Semantic entropy calculation completed successfully!\")\n",
        "files.download(output_file)\n",
        "print(f\"Semantic entropy results saved to {output_file}\")"
      ],
      "metadata": {
        "colab": {
          "base_uri": "https://localhost:8080/",
          "height": 69
        },
        "id": "tTDUk2awHN_u",
        "outputId": "bca36b01-ac1f-4ad1-8d32-1cd40bcbb1cb"
      },
      "execution_count": 22,
      "outputs": [
        {
          "output_type": "stream",
          "name": "stdout",
          "text": [
            "Loaded 708 questions with clustered answers.\n",
            "Semantic entropy calculation completed successfully!\n"
          ]
        },
        {
          "output_type": "display_data",
          "data": {
            "text/plain": [
              "<IPython.core.display.Javascript object>"
            ],
            "application/javascript": [
              "\n",
              "    async function download(id, filename, size) {\n",
              "      if (!google.colab.kernel.accessAllowed) {\n",
              "        return;\n",
              "      }\n",
              "      const div = document.createElement('div');\n",
              "      const label = document.createElement('label');\n",
              "      label.textContent = `Downloading \"${filename}\": `;\n",
              "      div.appendChild(label);\n",
              "      const progress = document.createElement('progress');\n",
              "      progress.max = size;\n",
              "      div.appendChild(progress);\n",
              "      document.body.appendChild(div);\n",
              "\n",
              "      const buffers = [];\n",
              "      let downloaded = 0;\n",
              "\n",
              "      const channel = await google.colab.kernel.comms.open(id);\n",
              "      // Send a message to notify the kernel that we're ready.\n",
              "      channel.send({})\n",
              "\n",
              "      for await (const message of channel.messages) {\n",
              "        // Send a message to notify the kernel that we're ready.\n",
              "        channel.send({})\n",
              "        if (message.buffers) {\n",
              "          for (const buffer of message.buffers) {\n",
              "            buffers.push(buffer);\n",
              "            downloaded += buffer.byteLength;\n",
              "            progress.value = downloaded;\n",
              "          }\n",
              "        }\n",
              "      }\n",
              "      const blob = new Blob(buffers, {type: 'application/binary'});\n",
              "      const a = document.createElement('a');\n",
              "      a.href = window.URL.createObjectURL(blob);\n",
              "      a.download = filename;\n",
              "      div.appendChild(a);\n",
              "      a.click();\n",
              "      div.remove();\n",
              "    }\n",
              "  "
            ]
          },
          "metadata": {}
        },
        {
          "output_type": "display_data",
          "data": {
            "text/plain": [
              "<IPython.core.display.Javascript object>"
            ],
            "application/javascript": [
              "download(\"download_9f0086a2-c677-4d21-b962-53cd5646d517\", \"semantic_entropy_Qwen2-7B-xor_tydiqa.json\", 2558534)"
            ]
          },
          "metadata": {}
        },
        {
          "output_type": "stream",
          "name": "stdout",
          "text": [
            "Semantic entropy results saved to semantic_entropy_Qwen2-7B-xor_tydiqa.json\n"
          ]
        }
      ]
    }
  ]
}