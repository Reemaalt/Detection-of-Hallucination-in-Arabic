{
  "nbformat": 4,
  "nbformat_minor": 0,
  "metadata": {
    "colab": {
      "provenance": [],
      "machine_shape": "hm",
      "gpuType": "A100",
      "authorship_tag": "ABX9TyO89G71YMJTv9gt9RHJ3gb+",
      "include_colab_link": true
    },
    "kernelspec": {
      "name": "python3",
      "display_name": "Python 3"
    },
    "language_info": {
      "name": "python"
    },
    "accelerator": "GPU"
  },
  "cells": [
    {
      "cell_type": "markdown",
      "metadata": {
        "id": "view-in-github",
        "colab_type": "text"
      },
      "source": [
        "<a href=\"https://colab.research.google.com/github/Reemaalt/Detection-of-Hallucination-in-Arabic/blob/main/our%20framework%20code/mysemantic_entropy.ipynb\" target=\"_parent\"><img src=\"https://colab.research.google.com/assets/colab-badge.svg\" alt=\"Open In Colab\"/></a>"
      ]
    },
    {
      "cell_type": "markdown",
      "source": [
        "- Estimate the probability of each cluster.\n",
        "- Use Monte Carlo integration to compute semantic entropy."
      ],
      "metadata": {
        "id": "e6i8_59fWv9q"
      }
    },
    {
      "cell_type": "code",
      "source": [
        "import json\n",
        "import os\n",
        "import numpy as np\n",
        "import torch\n",
        "from google.colab import files"
      ],
      "metadata": {
        "id": "Xj6HD8gwVBMK"
      },
      "execution_count": null,
      "outputs": []
    },
    {
      "cell_type": "markdown",
      "source": [],
      "metadata": {
        "id": "U9fKPVybUFIL"
      }
    },
    {
      "cell_type": "code",
      "source": [
        "def compute_cluster_log_probabilities(clusters):\n",
        "    \"\"\"\n",
        "    Compute p(c|x) for each cluster according to equation (2)\n",
        "\n",
        "    Compute normalized probabilities for each cluster using pre-summed negative log-likelihoods.\n",
        "    \"\"\"\n",
        "    # Convert total negative log-likelihoods to probabilities\n",
        "    cluster_probs = [np.exp(-cluster['total_neg_log_likelihoods_for_cluster']) for cluster in clusters]\n",
        "    # Count how many total responses\n",
        "    total_responses = sum(len(cluster) for cluster in clusters)\n",
        "\n",
        "    # Normalize to ensure sum of probabilities = 1\n",
        "    total_prob = sum(cluster_probs)\n",
        "    if total_prob > 0:\n",
        "        return [p/total_prob for p in cluster_probs]\n",
        "    else:\n",
        "        print(\"Warning: Total probability is zero. Check input values.\")\n",
        "        return [0.0] * len(cluster_probs)"
      ],
      "metadata": {
        "id": "kon63tgWTmmV"
      },
      "execution_count": null,
      "outputs": []
    },
    {
      "cell_type": "markdown",
      "source": [
        "- The reference code uses predictive_entropy_rao which computes -np.sum(np.exp(log_probs) * log_probs)\n",
        "our code computes -sum(p * np.log(p) for p in normalized_probs)\n",
        "These are mathematically equivalent approaches\n",
        "\n",
        "- implementing the semantic entropy calculation as described in the reference code's predictive_entropy_rao() function.\n",
        "\n"
      ],
      "metadata": {
        "id": "aFmZrSMwW4G7"
      }
    },
    {
      "cell_type": "code",
      "source": [
        "def compute_semantic_entropy(probabilities):\n",
        "    \"\"\"\n",
        "        Compute entropy from normalized probabilities.\n",
        "        Uses the formula SE(x) = -∑ p(c|x)log p(c|x)\n",
        "\n",
        "    \"\"\"\n",
        "    valid_probs = [p for p in probabilities if p > 0]\n",
        "\n",
        "    if not valid_probs:\n",
        "        return 0.0\n",
        "\n",
        "\n",
        "    # Calculate entropy using the proper formula 3\n",
        "    # This is the mc calculation as in the reference code\n",
        "    entropy = -sum(p * np.log(p) for p in valid_probs)\n",
        "\n",
        "    return entropy\n"
      ],
      "metadata": {
        "id": "85_f8N40XbPP"
      },
      "execution_count": null,
      "outputs": []
    },
    {
      "cell_type": "code",
      "source": [
        "# Step 5: Calculate semantic entropy\n",
        "def process_clustered_data(clustered_data):\n",
        "    entropy_results = {}\n",
        "    for question_id, data in clustered_data.items():\n",
        "        clusters = data[\"clusters\"]\n",
        "\n",
        "        # Step 1: Compute cluster probabilities\n",
        "        probabilities = compute_cluster_log_probabilities(clusters)\n",
        "\n",
        "        # Step 2: Compute semantic entropy\n",
        "        entropy = compute_semantic_entropy(probabilities)\n",
        "\n",
        "        # Store results\n",
        "        entropy_results[question_id] = {\n",
        "            \"question\": data[\"question\"],\n",
        "            \"semantic_entropy\": entropy,\n",
        "            \"num_clusters\": len(clusters),\n",
        "            \"cluster_probabilities\": probabilities\n",
        "        }\n",
        "    return entropy_results\n"
      ],
      "metadata": {
        "id": "rO9ZNtBJV0IR"
      },
      "execution_count": null,
      "outputs": []
    },
    {
      "cell_type": "code",
      "source": [
        "# Load input data\n",
        "with open(\"/content/entailment_clusters_Llama3.1-8b-xor_tydiqa.json\", \"r\", encoding=\"utf-8\") as f:\n",
        "    clustered_data = json.load(f)\n",
        "print(f\"Loaded {len(clustered_data)} questions with clustered answers.\")\n",
        "\n",
        "# Calculate results\n",
        "entropy_results = process_clustered_data(clustered_data)\n",
        "\n",
        "# Save output\n",
        "output_file = \"semantic_entropy_Llama3.1-8b_xquadAll_results.json\"\n",
        "with open(output_file, \"w\", encoding=\"utf-8\") as f:\n",
        "    json.dump(entropy_results, f, ensure_ascii=False, indent=4)\n",
        "\n",
        "print(\"Semantic entropy calculation completed successfully!\")\n",
        "files.download(output_file)\n",
        "print(f\"Semantic entropy results saved to {output_file}\")"
      ],
      "metadata": {
        "colab": {
          "base_uri": "https://localhost:8080/",
          "height": 69
        },
        "id": "tTDUk2awHN_u",
        "outputId": "378c1b40-ba0e-424f-a3d6-f6c3ffa9c5c8"
      },
      "execution_count": null,
      "outputs": [
        {
          "output_type": "stream",
          "name": "stdout",
          "text": [
            "Loaded 708 questions with clustered answers.\n",
            "Semantic entropy calculation completed successfully!\n"
          ]
        },
        {
          "output_type": "display_data",
          "data": {
            "text/plain": [
              "<IPython.core.display.Javascript object>"
            ],
            "application/javascript": [
              "\n",
              "    async function download(id, filename, size) {\n",
              "      if (!google.colab.kernel.accessAllowed) {\n",
              "        return;\n",
              "      }\n",
              "      const div = document.createElement('div');\n",
              "      const label = document.createElement('label');\n",
              "      label.textContent = `Downloading \"${filename}\": `;\n",
              "      div.appendChild(label);\n",
              "      const progress = document.createElement('progress');\n",
              "      progress.max = size;\n",
              "      div.appendChild(progress);\n",
              "      document.body.appendChild(div);\n",
              "\n",
              "      const buffers = [];\n",
              "      let downloaded = 0;\n",
              "\n",
              "      const channel = await google.colab.kernel.comms.open(id);\n",
              "      // Send a message to notify the kernel that we're ready.\n",
              "      channel.send({})\n",
              "\n",
              "      for await (const message of channel.messages) {\n",
              "        // Send a message to notify the kernel that we're ready.\n",
              "        channel.send({})\n",
              "        if (message.buffers) {\n",
              "          for (const buffer of message.buffers) {\n",
              "            buffers.push(buffer);\n",
              "            downloaded += buffer.byteLength;\n",
              "            progress.value = downloaded;\n",
              "          }\n",
              "        }\n",
              "      }\n",
              "      const blob = new Blob(buffers, {type: 'application/binary'});\n",
              "      const a = document.createElement('a');\n",
              "      a.href = window.URL.createObjectURL(blob);\n",
              "      a.download = filename;\n",
              "      div.appendChild(a);\n",
              "      a.click();\n",
              "      div.remove();\n",
              "    }\n",
              "  "
            ]
          },
          "metadata": {}
        },
        {
          "output_type": "display_data",
          "data": {
            "text/plain": [
              "<IPython.core.display.Javascript object>"
            ],
            "application/javascript": [
              "download(\"download_0b6e920c-f2e3-40cd-b956-27624a163de1\", \"semantic_entropy_Llama3.1-8b_xquadAll_results.json\", 354235)"
            ]
          },
          "metadata": {}
        },
        {
          "output_type": "stream",
          "name": "stdout",
          "text": [
            "Semantic entropy results saved to semantic_entropy_Llama3.1-8b_xquadAll_results.json\n"
          ]
        }
      ]
    },
    {
      "cell_type": "code",
      "source": [
        "def compute_cluster_log_probabilitiesnew(clusters):\n",
        "    # Get negative log-likelihoods for each cluster\n",
        "    neg_llh = [cluster['total_neg_log_likelihoods_for_cluster'] for cluster in clusters]\n",
        "    log_probs = [-nll for nll in neg_llh]  # Convert to log probabilities\n",
        "\n",
        "    # Log-normalize using log-sum-exp trick for numerical stability\n",
        "    max_log_prob = max(log_probs)\n",
        "    log_sum = max_log_prob + np.log(sum(np.exp(lp - max_log_prob) for lp in log_probs))\n",
        "    norm_log_probs = [lp - log_sum for lp in log_probs]\n",
        "\n",
        "    return norm_log_probs\n",
        "\n",
        "def compute_semantic_entropynew(log_probabilities):\n",
        "    # Calculate entropy using log probabilities: -sum(exp(log_p) * log_p)\n",
        "    return -sum(np.exp(lp) * lp for lp in log_probabilities if not np.isneginf(lp))"
      ],
      "metadata": {
        "id": "vzpzYM7fj6Ow"
      },
      "execution_count": null,
      "outputs": []
    }
  ]
}