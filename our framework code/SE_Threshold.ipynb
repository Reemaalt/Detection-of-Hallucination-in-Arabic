{
  "nbformat": 4,
  "nbformat_minor": 0,
  "metadata": {
    "colab": {
      "provenance": [],
      "collapsed_sections": [
        "eUWDSfRh5LOJ",
        "qmDRuydIKIZF"
      ]
    },
    "kernelspec": {
      "name": "python3",
      "display_name": "Python 3"
    },
    "language_info": {
      "name": "python"
    }
  },
  "cells": [
    {
      "cell_type": "markdown",
      "source": [
        "# Adding SE values to the human labels file\n",
        "\n",
        "**run once**"
      ],
      "metadata": {
        "id": "eUWDSfRh5LOJ"
      }
    },
    {
      "cell_type": "code",
      "source": [
        "import json\n",
        "\n",
        "def update_with_semantic_entropy():\n",
        "    with open('human_sample_xor_tydiqa.json', 'r', encoding='utf-8') as f:\n",
        "        human_sample = json.load(f)\n",
        "    with open('SEMANTIC_human_sample_xor_tydiqa.json', 'r', encoding='utf-8') as f:\n",
        "        semantic_entropy_data = json.load(f)\n",
        "\n",
        "    # Create a mapping of questions to their semantic entropy data\n",
        "    question_to_entropy = {}\n",
        "    for key, data in semantic_entropy_data.items():\n",
        "        question = data.get('question')\n",
        "        if question:\n",
        "            question_to_entropy[question] = {\n",
        "                'semantic_entropy': data.get('semantic_entropy'),\n",
        "                #'num_clusters': data.get('num_clusters'),\n",
        "                #'cluster_probabilities': data.get('cluster_probabilities')\n",
        "            }\n",
        "\n",
        "    # Update\n",
        "    updated_count = 0\n",
        "    for key, data in human_sample.items():\n",
        "        question = data.get('question')\n",
        "        if question and question in question_to_entropy:\n",
        "            # Add semantic entropy data to the human sample\n",
        "            entropy_data = question_to_entropy[question]\n",
        "            data['semantic_entropy'] = entropy_data['semantic_entropy']\n",
        "            updated_count += 1\n",
        "        else:\n",
        "            print(f\"Question not found in semantic entropy data: {question}\")\n",
        "\n",
        "    # Save the updated human sample\n",
        "    with open('human_sample_xor_tydiqa_updated.json', 'w', encoding='utf-8') as f:\n",
        "        json.dump(human_sample, f, ensure_ascii=False, indent=2)\n",
        "\n",
        "    print(f\"Updated {updated_count} questions with semantic entropy data\")\n",
        "    print(f\"Saved to human_sample_xor_tydiqa_updated.json\")\n",
        "\n",
        "update_with_semantic_entropy()"
      ],
      "metadata": {
        "colab": {
          "base_uri": "https://localhost:8080/"
        },
        "id": "_qFCb0SB5Kmk",
        "outputId": "a0e5708d-ad93-4d8b-e3a4-73b7ddcd0a9c"
      },
      "execution_count": null,
      "outputs": [
        {
          "output_type": "stream",
          "name": "stdout",
          "text": [
            "Updated 100 questions with semantic entropy data\n",
            "Saved to human_sample_xor_tydiqa_updated.json\n"
          ]
        }
      ]
    },
    {
      "cell_type": "markdown",
      "source": [
        "# AUROC\n",
        "To determine a threshold (on human labeled sample!)\n",
        "###Needs SE values & human question labels as groundtruths"
      ],
      "metadata": {
        "id": "jatGI1-JEjlv"
      }
    },
    {
      "cell_type": "code",
      "source": [
        "import json\n",
        "import numpy as np\n",
        "import matplotlib.pyplot as plt\n",
        "import seaborn as sns\n",
        "from sklearn.metrics import roc_auc_score, roc_curve\n",
        "import math"
      ],
      "metadata": {
        "id": "CvA6EQKyNLLm"
      },
      "execution_count": null,
      "outputs": []
    },
    {
      "cell_type": "code",
      "source": [
        "# Load the data\n",
        "with open(\"/content/new_Labeled_SE_ALLaM_ArabicaQA.json\", \"r\", encoding=\"utf-8\") as file:\n",
        "    data = json.load(file)\n",
        "\n",
        "# Extract ground truth labels and semantic entropy values\n",
        "true_labels = []\n",
        "semantic_entropy_values = []\n",
        "question_ids = []\n",
        "count = 0\n",
        "\n",
        "for question_id, question_data in enumerate(data):\n",
        "    # Check if human_question_label exists and is not empty\n",
        "    if question_data.get(\"human_question_label\") and question_data.get(\"human_question_label\").strip():\n",
        "        # Convert labels to num (1 hallucinated, 0 non-hallucinated)\n",
        "        true_label = 1 if question_data.get(\"human_question_label\") == \"Hallucinated\" else 0\n",
        "\n",
        "        # Save ground truth, entropy values, and question IDs\n",
        "        true_labels.append(true_label)\n",
        "        semantic_entropy_values.append(question_data.get(\"semantic_entropy\"))\n",
        "        question_ids.append(question_id)\n",
        "\n",
        "        count += 1\n",
        "        if count >= 100:\n",
        "            break\n",
        "\n",
        "true_labels = np.array(true_labels)\n",
        "semantic_entropy_values = np.array(semantic_entropy_values)\n",
        "question_ids = np.array(question_ids)\n",
        "\n",
        "# Print class distribution\n",
        "hallucinated_count = np.sum(true_labels == 1)\n",
        "non_hallucinated_count = np.sum(true_labels == 0)\n",
        "print(f\"Class distribution:\")\n",
        "print(f\"  Hallucinated: {hallucinated_count} ({hallucinated_count/len(true_labels)*100:.1f}%)\")\n",
        "print(f\"  Non-hallucinated: {non_hallucinated_count} ({non_hallucinated_count/len(true_labels)*100:.1f}%)\")\n",
        "\n",
        "# Check relationship between entropy and hallucination\n",
        "avg_entropy_hallucinated = np.mean(semantic_entropy_values[true_labels == 1])\n",
        "avg_entropy_non_hallucinated = np.mean(semantic_entropy_values[true_labels == 0])\n",
        "print(f\"\\nAverage entropy for hallucinated samples: {avg_entropy_hallucinated}\")\n",
        "print(f\"Average entropy for non-hallucinated samples: {avg_entropy_non_hallucinated}\")\n",
        "\n",
        "# Compute AUROC score for entropy values\n",
        "auroc = roc_auc_score(true_labels, semantic_entropy_values)\n",
        "print(f\"\\nAUROC Score (entropy-sample): {auroc}\")\n",
        "\n",
        "# Plot ROC Curve for the selected entropy values with labeled thresholds\n",
        "fpr, tpr, thresholds = roc_curve(true_labels, semantic_entropy_values)\n",
        "\n",
        "# Find the optimal threshold\n",
        "optimal_idx = np.argmax(tpr - fpr)\n",
        "optimal_threshold = thresholds[optimal_idx]\n",
        "print(f\"\\nOptimal threshold: {optimal_threshold}\")\n",
        "print(f\"TPR - FPR = {(tpr[optimal_idx] - fpr[optimal_idx]):.3f} TPR= {(tpr[optimal_idx]):.3f} FPR = {fpr[optimal_idx]:.3f}\")  # Best Value: 1 (perfect classifier: TPR=1, FPR=0), 0 is random guessing\n",
        "# The difference at the threshold is 0.47, which means the model is better at\n",
        "\n",
        "optimal_threshold = 0.267\n",
        "\n",
        "plt.figure(figsize=(12, 8))\n",
        "\n",
        "# Histogram of entropy by class\n",
        "plt.subplot(2, 1, 1)\n",
        "\n",
        "# Non-Hallucinated\n",
        "sns.histplot(semantic_entropy_values[true_labels == 0],\n",
        "             label=\"Non-Hallucinated (Hist)\", color=\"green\",\n",
        "             kde=False, stat=\"density\", alpha=0.3)\n",
        "# Hallucinated\n",
        "sns.histplot(semantic_entropy_values[true_labels == 1],\n",
        "             label=\"Hallucinated (Hist)\", color=\"red\",\n",
        "             kde=False, stat=\"density\", alpha=0.3)\n",
        "\n",
        "# Threshold line\n",
        "plt.axvline(optimal_threshold, color='black', linestyle='dashed',\n",
        "            linewidth=2, label=f\"Optimal Threshold = {optimal_threshold}\")\n",
        "\n",
        "plt.title(\"Distribution of Entropy Values by Class\")\n",
        "plt.xlabel(\"Entropy Value\")\n",
        "plt.ylabel(\"Density\")\n",
        "plt.legend()\n",
        "\n",
        "# Create ROC curve\n",
        "plt.subplot(2, 1, 2)\n",
        "plt.plot(fpr, tpr, color='blue', label=f\"ROC Curve (AUROC = {auroc:.4f})\")\n",
        "plt.plot([0, 1], [0, 1], linestyle=\"--\", color=\"gray\")  # Random classifier line\n",
        "\n",
        "num_thresholds = len(thresholds)\n",
        "threshold_positions = np.linspace(0, num_thresholds-1, 12).astype(int)\n",
        "\n",
        "# Plot threshold points and add labels\n",
        "for idx in threshold_positions:\n",
        "    plt.plot(fpr[idx], tpr[idx], 'ro')\n",
        "    plt.annotate(f\"{thresholds[idx]:.5f}\",\n",
        "                (fpr[idx], tpr[idx]),\n",
        "                textcoords=\"offset points\",\n",
        "                xytext=(10, 0),\n",
        "                ha='left',\n",
        "                fontsize=6)\n",
        "\n",
        "# Highlight the optimal threshold\n",
        "plt.plot(fpr[optimal_idx], tpr[optimal_idx], 'go', markersize=10)\n",
        "plt.annotate(f\"{optimal_threshold}\",\n",
        "            (fpr[optimal_idx], tpr[optimal_idx]),\n",
        "            textcoords=\"offset points\",\n",
        "            xytext=(10, 10),\n",
        "            ha='left',\n",
        "            fontweight='bold')\n",
        "\n",
        "plt.xlabel(\"False Positive Rate\")\n",
        "plt.ylabel(\"True Positive Rate\")\n",
        "plt.title(\"ROC Curve\")\n",
        "plt.grid(alpha=0.3)\n",
        "plt.legend(loc=\"lower right\")\n",
        "plt.tight_layout()\n",
        "plt.savefig(\"entropy_threshold_analysis_without_normalization.png\", dpi=300)\n",
        "\n",
        "# Calculate metrics for the optimal threshold\n",
        "predictions = (semantic_entropy_values >= optimal_threshold).astype(int)\n",
        "true_positive = np.sum((predictions == 1) & (true_labels == 1))\n",
        "true_negative = np.sum((predictions == 0) & (true_labels == 0))\n",
        "false_positive = np.sum((predictions == 1) & (true_labels == 0))\n",
        "false_negative = np.sum((predictions == 0) & (true_labels == 1))\n",
        "\n",
        "accuracy = (true_positive + true_negative) / len(true_labels)\n",
        "precision = true_positive / (true_positive + false_positive) if (true_positive + false_positive) > 0 else 0\n",
        "recall = true_positive / (true_positive + false_negative) if (true_positive + false_negative) > 0 else 0\n",
        "f1 = 2 * precision * recall / (precision + recall) if (precision + recall) > 0 else 0\n",
        "\n",
        "print(\"\\nPerformance at optimal threshold:\")\n",
        "print(f\"Accuracy: {accuracy:.4f}\")\n",
        "print(f\"Precision: {precision:.4f}\")\n",
        "print(f\"Recall: {recall:.4f}\")\n",
        "print(f\"F1 Score: {f1:.4f}\")\n",
        "\n",
        "print(\"\\nConfusion Matrix:\")\n",
        "print(f\"TN: {true_negative}, FP: {false_positive}\")\n",
        "print(f\"FN: {false_negative}, TP: {true_positive}\")"
      ],
      "metadata": {
        "id": "KxmR16qe90eC"
      },
      "execution_count": null,
      "outputs": []
    },
    {
      "cell_type": "code",
      "source": [
        "#get a file with semantic entropy based labels (the sample)\n",
        "#adding label to each question based on optimal threshold\n",
        "for i, question_id in enumerate(question_ids):\n",
        "    entropy = semantic_entropy_values[i]\n",
        "    predicted_label = \"Hallucinated\" if entropy >= optimal_threshold else \"Non-Hallucinated\"\n",
        "    data[question_id][\"question_label_SE\"] = predicted_label\n",
        "\n",
        "# Save the updated data to a new file\n",
        "with open(\"human_SE_sample_xor_tydiqa.json\", \"w\", encoding=\"utf-8\") as f_out:\n",
        "    json.dump(data, f_out, indent=2, ensure_ascii=False)\n",
        "\n",
        "print(f\"\\nUpdated file saved as 'human_SE_sample_xor_tydiqa.json'\")"
      ],
      "metadata": {
        "colab": {
          "base_uri": "https://localhost:8080/"
        },
        "id": "B06N_jlPLGZ7",
        "outputId": "7b1b8433-283e-44a8-f39c-c4962f02f5f9"
      },
      "execution_count": null,
      "outputs": [
        {
          "output_type": "stream",
          "name": "stdout",
          "text": [
            "\n",
            "Updated file saved as 'human_SE_sample_xor_tydiqa.json'\n"
          ]
        }
      ]
    },
    {
      "cell_type": "markdown",
      "source": [
        "# labeling the full data based on achieved threshold\n"
      ],
      "metadata": {
        "id": "aWcaj_t_MZUA"
      }
    },
    {
      "cell_type": "code",
      "source": [
        "from google.colab import drive\n",
        "\n",
        "# Mount Google Drive\n",
        "drive.mount('/content/drive')"
      ],
      "metadata": {
        "colab": {
          "base_uri": "https://localhost:8080/"
        },
        "id": "gJnZySHipOow",
        "outputId": "abe9d0bf-f305-4807-f807-c20681cc3017"
      },
      "execution_count": 2,
      "outputs": [
        {
          "output_type": "stream",
          "name": "stdout",
          "text": [
            "Mounted at /content/drive\n"
          ]
        }
      ]
    },
    {
      "cell_type": "code",
      "source": [
        "import json\n",
        "fullDataFile = \"/content/drive/MyDrive/finalTransWithSE_QwenXOR_rougel_isri.json\"\n",
        "optimal_threshold = 0.166\n",
        "\n",
        "# Load the data\n",
        "with open(fullDataFile, \"r\", encoding=\"utf-8\") as f:\n",
        "    data = json.load(f)\n",
        "\n",
        "# Add a label based on semantic entropy\n",
        "for question_data in data:\n",
        "    entropy = question_data.get(\"semantic_entropy\", 0)\n",
        "    label = \"Hallucinated\" if entropy >= optimal_threshold else \"Non-Hallucinated\"\n",
        "    question_data[\"SE_question_label\"] = label\n",
        "\n",
        "# Save to a new file\n",
        "with open(\"/content/drive/MyDrive/finalTransWithSE_QwenXOR_rougel_isri.json\", \"w\", encoding=\"utf-8\") as f_out:\n",
        "    json.dump(data, f_out, indent=2, ensure_ascii=False)\n",
        "\n",
        "#print(\"File with labels saved as 'new_Labeled_SE_Jais_XOR.json'\")"
      ],
      "metadata": {
        "id": "P7rUvLUVOHmP"
      },
      "execution_count": 3,
      "outputs": []
    },
    {
      "cell_type": "markdown",
      "source": [
        "#get rougeL labels and add them to my one file"
      ],
      "metadata": {
        "id": "qmDRuydIKIZF"
      }
    },
    {
      "cell_type": "code",
      "source": [
        "import json\n",
        "#file 1 is rouge, file 2 is the big one\n",
        "# Load the files\n",
        "with open(\"/content/drive/MyDrive/0.267finalTransWithSE_AllamXOR_rougel_isri.json\", \"r\", encoding=\"utf-8\") as f1, open(\"/content/new_Labeled_SE_ALLaM_XOR.json\", \"r\", encoding=\"utf-8\") as f2:\n",
        "    file1_data = json.load(f1)\n",
        "    file2_data = json.load(f2)\n",
        "\n",
        "# Match questions and update\n",
        "for item1 in file1_data:\n",
        "    question1 = item1[\"question\"]\n",
        "    for item2 in file2_data:\n",
        "        if item2[\"question\"] == question1:\n",
        "            # Update RougeL_label for each answer\n",
        "            answers1 = item1[\"answers\"][0]\n",
        "            answers2 = item2[\"answers\"][0]\n",
        "            for a1, a2 in zip(answers1, answers2):\n",
        "                a2[\"RougeL_label\"] = a1[\"RougeL_label\"]\n",
        "\n",
        "            # Add computed_question_label\n",
        "            item2[\"RougeL_question_label\"] = item1[\"computed_question_label\"]\n",
        "            break\n",
        "\n",
        "# Save the updated file2\n",
        "with open(\"file2_updated.json\", \"w\", encoding=\"utf-8\") as f:\n",
        "    json.dump(file2_data, f, ensure_ascii=False, indent=2)\n"
      ],
      "metadata": {
        "id": "vzH5utLKKOBR"
      },
      "execution_count": null,
      "outputs": []
    },
    {
      "cell_type": "markdown",
      "source": [
        "# comparing RougeL and SE labels"
      ],
      "metadata": {
        "id": "rmD4TmET89xM"
      }
    },
    {
      "cell_type": "code",
      "source": [
        "import json\n",
        "import numpy as np\n",
        "from sklearn.metrics import accuracy_score, precision_score, recall_score, f1_score, confusion_matrix\n",
        "from sklearn.metrics import roc_curve, auc, roc_auc_score\n",
        "import matplotlib.pyplot as plt\n",
        "import seaborn as sns\n",
        "\n",
        "def load_json_file(file_path):\n",
        "    with open(file_path, 'r', encoding='utf-8') as file:\n",
        "        return json.load(file)\n",
        "\n",
        "def calculate_metrics(data_file):\n",
        "    data = load_json_file(data_file)\n",
        "\n",
        "    y_true = []\n",
        "    y_pred = []\n",
        "    y_scores = []\n",
        "\n",
        "    for item in data:\n",
        "        true_label = item.get(\"computed_question_label\")\n",
        "        pred_label = item.get(\"SE_question_label\")\n",
        "\n",
        "        score = 1.0 if pred_label == \"Hallucinated\" else 0.0\n",
        "\n",
        "        y_true.append(true_label)\n",
        "        y_pred.append(pred_label)\n",
        "        y_scores.append(score)\n",
        "\n",
        "    y_true_binary = [1 if label == \"Hallucinated\" else 0 for label in y_true]\n",
        "    y_pred_binary = [1 if label == \"Hallucinated\" else 0 for label in y_pred]\n",
        "\n",
        "    print(f\"Label distribution in ground truth (RougeL): {dict((x, y_true.count(x)) for x in set(y_true))}\")\n",
        "    print(f\"Label distribution in predictions (SE): {dict((x, y_pred.count(x)) for x in set(y_pred))}\")\n",
        "\n",
        "    labels = sorted(list(set(y_true).union(set(y_pred))))\n",
        "    auroc = roc_auc_score(y_true_binary, y_scores)\n",
        "\n",
        "    metrics = {\n",
        "        \"accuracy\": accuracy_score(y_true, y_pred),\n",
        "        \"precision\": precision_score(y_true, y_pred, pos_label=\"Hallucinated\", average='binary'),\n",
        "        \"recall\": recall_score(y_true, y_pred, pos_label=\"Hallucinated\", average='binary'),\n",
        "        \"f1_score\": f1_score(y_true, y_pred, pos_label=\"Hallucinated\", average='binary'),\n",
        "        \"auroc\": auroc,\n",
        "        \"confusion_matrix\": confusion_matrix(y_true, y_pred, labels=labels),\n",
        "        \"labels\": labels,\n",
        "        \"y_true_binary\": y_true_binary,\n",
        "        \"y_scores\": y_scores\n",
        "    }\n",
        "    return metrics\n",
        "\n",
        "def plot_confusion_matrix(conf_matrix, labels):\n",
        "    plt.figure(figsize=(8, 6))\n",
        "    sns.heatmap(conf_matrix, annot=True, fmt='d', cmap='Blues',\n",
        "               xticklabels=labels, yticklabels=labels)\n",
        "    plt.xlabel('Predicted Labels')\n",
        "    plt.ylabel('True Labels')\n",
        "    plt.title('Confusion Matrix')\n",
        "    plt.tight_layout()\n",
        "    plt.savefig('confusion_matrix.png')\n",
        "    print(\"Confusion matrix saved as 'confusion_matrix.png'\")\n",
        "    plt.show()\n",
        "\n",
        "def print_confusion_matrix_stats(conf_matrix, labels):\n",
        "    # Find which index corresponds to the positive class (\"Hallucinated\")\n",
        "    pos_index = labels.index(\"Hallucinated\") if \"Hallucinated\" in labels else 0\n",
        "    neg_index = 1 - pos_index  # The other index\n",
        "\n",
        "    tn = conf_matrix[neg_index, neg_index]\n",
        "    fp = conf_matrix[neg_index, pos_index]\n",
        "    fn = conf_matrix[pos_index, neg_index]\n",
        "    tp = conf_matrix[pos_index, pos_index]\n",
        "\n",
        "    print(\"\\nConfusion Matrix Statistics:\")\n",
        "    print(f\"True Positives: {tp}\")\n",
        "    print(f\"False Positives: {fp}\")\n",
        "    print(f\"True Negatives: {tn}\")\n",
        "    print(f\"False Negatives: {fn}\")\n",
        "\n",
        "metrics = calculate_metrics('/content/drive/MyDrive/finalTransWithSE_QwenXOR_rougel_isri.json')\n",
        "\n",
        "print(\"\\nClassification Metrics:\")\n",
        "print(f\"Accuracy: {metrics['accuracy']:.4f}\")\n",
        "print(f\"Precision: {metrics['precision']:.4f}\")\n",
        "print(f\"Recall: {metrics['recall']:.4f}\")\n",
        "print(f\"F1 Score: {metrics['f1_score']:.4f}\")\n",
        "\n",
        "# Print and plot confusion matrix\n",
        "conf_matrix = metrics['confusion_matrix']\n",
        "labels = metrics['labels']\n",
        "print_confusion_matrix_stats(conf_matrix, labels)\n",
        "plot_confusion_matrix(conf_matrix, labels)\n",
        "\n"
      ],
      "metadata": {
        "id": "QfZVqnxMPs6I",
        "colab": {
          "base_uri": "https://localhost:8080/",
          "height": 854
        },
        "outputId": "69e36fcb-7f0a-4a29-f2c2-d0ddea86791a"
      },
      "execution_count": 4,
      "outputs": [
        {
          "output_type": "stream",
          "name": "stdout",
          "text": [
            "Label distribution in ground truth (RougeL): {'Non-Hallucinated': 21, 'Hallucinated': 687}\n",
            "Label distribution in predictions (SE): {'Non-Hallucinated': 250, 'Hallucinated': 458}\n",
            "\n",
            "Classification Metrics:\n",
            "Accuracy: 0.6568\n",
            "Precision: 0.9847\n",
            "Recall: 0.6565\n",
            "F1 Score: 0.7878\n",
            "\n",
            "Confusion Matrix Statistics:\n",
            "True Positives: 451\n",
            "False Positives: 7\n",
            "True Negatives: 14\n",
            "False Negatives: 236\n",
            "Confusion matrix saved as 'confusion_matrix.png'\n"
          ]
        },
        {
          "output_type": "display_data",
          "data": {
            "text/plain": [
              "<Figure size 800x600 with 2 Axes>"
            ],
            "image/png": "[encoded data removed]"
          },
          "metadata": {}
        }
      ]
    }
  ]
}