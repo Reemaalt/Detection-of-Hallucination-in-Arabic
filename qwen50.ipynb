{
  "nbformat": 4,
  "nbformat_minor": 0,
  "metadata": {
    "colab": {
      "provenance": [],
      "gpuType": "T4",
      "mount_file_id": "1l3bUFaXSYvFv8aAAQeYXyWxEpJ-hTL7i",
      "authorship_tag": "ABX9TyNKGiWRLPQ1OT4sShyu3mQJ",
      "include_colab_link": true
    },
    "kernelspec": {
      "name": "python3",
      "display_name": "Python 3"
    },
    "language_info": {
      "name": "python"
    },
    "accelerator": "GPU"
  },
  "cells": [
    {
      "cell_type": "markdown",
      "metadata": {
        "id": "view-in-github",
        "colab_type": "text"
      },
      "source": [
        "<a href=\"https://colab.research.google.com/github/Reemaalt/Detection-of-Hallucination-in-Arabic/blob/main/qwen50.ipynb\" target=\"_parent\"><img src=\"https://colab.research.google.com/assets/colab-badge.svg\" alt=\"Open In Colab\"/></a>"
      ]
    },
    {
      "cell_type": "code",
      "execution_count": 1,
      "metadata": {
        "colab": {
          "base_uri": "https://localhost:8080/"
        },
        "id": "_SR1GClXBcLN",
        "outputId": "f6d1e2ee-1833-41f3-bf60-336cfa229905"
      },
      "outputs": [
        {
          "output_type": "stream",
          "name": "stderr",
          "text": [
            "/usr/local/lib/python3.11/dist-packages/huggingface_hub/utils/_auth.py:94: UserWarning: \n",
            "The secret `HF_TOKEN` does not exist in your Colab secrets.\n",
            "To authenticate with the Hugging Face Hub, create a token in your settings tab (https://huggingface.co/settings/tokens), set it as secret in your Google Colab and restart your session.\n",
            "You will be able to reuse this secret in all of your notebooks.\n",
            "Please note that authentication is recommended but still optional to access public models or datasets.\n",
            "  warnings.warn(\n",
            "Device set to use cuda:0\n"
          ]
        },
        {
          "output_type": "execute_result",
          "data": {
            "text/plain": [
              "[{'generated_text': [{'role': 'user', 'content': 'Who are you?'},\n",
              "   {'role': 'assistant',\n",
              "    'content': 'I am a helpful assistant designed to assist with various tasks. What can I help you with today?.IsAny\\n.IsAny\\nI am a helpful assistant designed to assist with various tasks. What can I help you with today?.IsAny\\n.IsAny\\nI am a helpful assistant designed to assist with various tasks. What can I help you with today?.IsAny\\n.IsAny\\nI am a helpful assistant designed to assist with various tasks. What can I help you with today?.IsAny\\n.IsAny\\nI am a helpful assistant designed to assist with various tasks. What can I help you with today?.IsAny\\n.IsAny\\nI am a helpful assistant designed to assist with various tasks. What can I help you with today?.IsAny\\n.IsAny\\nI am a helpful assistant designed to assist with various tasks. What can I help you with today?.IsAny\\n.IsAny\\nI am a helpful assistant designed to assist with various tasks. What can I help you with today?.IsAny\\n.IsAny\\nI am a helpful assistant designed to assist with various tasks. What can I help you with today?.IsAny\\n.IsAny\\nI am a helpful assistant designed to assist with various tasks. What can I help you with today?.IsAny\\n.IsAny\\nI am a helpful assistant designed to assist with various tasks. What can I help you with today?.IsAny\\n.IsAny\\nI am a helpful assistant designed to assist with various tasks. What can I help you with today?.IsAny\\n.IsAny\\nI am a helpful assistant designed to assist with various tasks. What can I help you with today?.IsAny\\n.IsAny\\nI am a helpful assistant designed to assist with various tasks. What can I help you with today?.IsAny\\n.IsAny\\nI am a helpful assistant designed to assist with various tasks. What can I help you with today?.IsAny\\n.IsAny\\nI am a helpful assistant designed to assist with various tasks. What can I help you with today?.IsAny\\n.IsAny\\nI am a helpful assistant designed to assist with various tasks. What can I help you with today?.IsAny\\n.IsAny\\nI am a helpful assistant designed to assist with various tasks. What can I help you with today?.IsAny\\n.IsAny\\nI am a helpful assistant designed to assist with various tasks. What can I help you with today?.IsAny\\n.IsAny\\nI am a helpful assistant designed to assist with various tasks. What can I help you with today?.IsAny\\n.IsAny\\nI am a helpful assistant designed to assist with various tasks. What can I help you with today?.IsAny\\n.IsAny\\nI am a helpful assistant designed to assist with various tasks. What can I help you with today?.IsAny\\n.IsAny\\nI am a helpful assistant designed to assist with various tasks. What can I help you with today?.IsAny\\n.IsAny\\nI am a helpful assistant designed to assist with various tasks. What can I help you with today?.IsAny\\n.IsAny\\nI am a helpful assistant designed to assist with various tasks. What can I help you with today?.IsAny\\n.IsAny\\nI am a helpful assistant designed to assist with various tasks. What can I help you with today?.IsAny\\n.IsAny\\nI am a helpful assistant designed to assist with various tasks. What can I help you with today?.IsAny\\n.IsAny\\nI am a helpful assistant designed to assist with various tasks. What can I help you with today?.IsAny\\n.IsAny\\nI am a helpful assistant designed to assist with various tasks. What can I help you with today?.IsAny\\n.IsAny\\nI am a helpful assistant designed to assist with various tasks. What can I help you with today?.IsAny\\n.IsAny\\nI am a helpful assistant designed to assist with various tasks. What can I help you with today?.IsAny\\n.IsAny\\nI am a helpful assistant designed to assist with various tasks. What can I help you with today?.IsAny\\n.IsAny\\nI am a helpful assistant designed to assist with various tasks. What can I help you with today?.IsAny\\n.IsAny\\nI am a helpful assistant designed to assist with various tasks. What can I help you with today?.IsAny\\n.IsAny\\nI am a helpful assistant designed to assist with various tasks. What can I help you with today?.IsAny\\n.IsAny\\nI am a helpful assistant designed to assist with various tasks. What can I help you with today?.IsAny\\n.IsAny\\nI am a helpful assistant designed to assist with various tasks. What can I help you with today?.IsAny\\n.IsAny\\nI am a helpful assistant designed to assist with various tasks. What can I help you with today?.IsAny\\n.IsAny\\nI am a helpful assistant designed to assist with various tasks. What can I help you with today?.IsAny\\n.IsAny\\nI am a helpful assistant designed to assist with various tasks. What can I help you with today?.IsAny\\n.IsAny\\nI am a helpful assistant designed to assist with various tasks. What can I help you with today?.IsAny\\n.IsAny\\nI am a helpful assistant designed to assist with various tasks. What can I help you with today?.IsAny\\n.IsAny\\nI am a helpful assistant designed to assist with various tasks. What can I help you with today?.IsAny\\n.IsAny\\nI am a helpful assistant designed to assist with various tasks. What can I help you with today?.IsAny\\n.IsAny\\nI am a helpful assistant designed to assist with various tasks. What can I help you with today?.IsAny\\n.IsAny\\nI am a helpful assistant designed to assist with various tasks. What can I help you with today?.IsAny\\n.IsAny\\nI am a helpful assistant designed to assist with various tasks. What can I help you with today?.IsAny\\n.IsAny\\nI am a helpful assistant designed to assist with various tasks. What can I help you with today?.IsAny\\n.IsAny\\nI am a helpful assistant designed to assist with various tasks. What can I help you with today?.IsAny\\n.IsAny\\nI am a helpful assistant designed to assist with various tasks. What can I help you with today?.IsAny\\n.IsAny\\nI am a helpful assistant designed to assist with various tasks. What can I help you with today?.IsAny\\n.IsAny\\nI am a helpful assistant designed to assist with various tasks. What can I help you with today?.IsAny\\n.IsAny\\nI am a helpful assistant designed to assist with various tasks. What can I help you with today?.IsAny\\n.IsAny\\nI am a helpful assistant designed to assist with various tasks. What can I help you with today?.IsAny\\n.IsAny\\nI am a helpful assistant designed to assist with various tasks. What can I help you with today?.IsAny\\n.IsAny\\nI am a helpful assistant designed to assist with various tasks. What can I help you with today?.IsAny\\n.IsAny\\nI am a helpful assistant designed to assist with various tasks. What can I help you with today?.IsAny\\n.IsAny\\nI am a helpful assistant designed to assist with various tasks. What can I help you with today?.IsAny\\n.IsAny\\nI am a helpful assistant designed to assist with various tasks. What can I help you with today?.IsAny\\n.IsAny\\nI am a helpful assistant designed to assist with various tasks. What can I help you with today?.IsAny\\n.IsAny\\nI am a helpful assistant designed to assist with various tasks. What can I help you with today?.IsAny\\n.IsAny\\nI am a helpful assistant designed to assist with various tasks. What can I help you with today?.IsAny\\n.IsAny\\nI am a helpful assistant designed to assist with various tasks. What can I help you with today?.IsAny\\n.IsAny\\nI am a helpful assistant designed to assist with various tasks. What can I help you with today?.IsAny\\n.IsAny\\nI am a helpful assistant designed to assist with various tasks. What can I help you with today?.IsAny\\n.IsAny\\nI am a helpful assistant designed to assist with various tasks. What can I help you with today?.IsAny\\n.IsAny\\nI am a helpful assistant designed to assist with various tasks. What can I help you with today?.IsAny\\n.IsAny\\nI am a helpful assistant designed to assist with various tasks. What can I help you with today?.IsAny\\n.IsAny\\nI am a helpful assistant designed to assist with various tasks. What can I help you with today?.IsAny\\n.IsAny\\nI am a helpful assistant designed to assist with various tasks. What can I help you with today?.IsAny\\n.IsAny\\nI am a helpful assistant designed to assist with various tasks. What can I help you with today?.IsAny\\n.IsAny\\nI am a helpful assistant designed to assist with various tasks. What can I help you with today?.IsAny\\n.IsAny\\nI am a helpful assistant designed to assist with various tasks. What can I help you with today?.IsAny\\n.IsAny\\nI am a helpful assistant designed to assist with various tasks. What can I help you with today?.IsAny\\n.IsAny\\nI am a helpful assistant designed to assist with various tasks. What can I help you with today?.IsAny\\n.IsAny\\nI am a helpful assistant designed to assist with various tasks. What can I help you with today?.IsAny\\n.IsAny\\nI am a helpful assistant designed to assist with various tasks. What can I help you with today?.IsAny\\n.IsAny\\nI am a helpful assistant designed to assist with various tasks. What can I help you with today?.IsAny\\n.IsAny\\nI am a helpful assistant designed to assist with various tasks. What can I help you with today?.IsAny\\n.IsAny\\nI am a helpful assistant designed to assist with various tasks. What can I help you with today?.IsAny\\n.IsAny\\nI am a helpful assistant designed to assist with various tasks. What can I help you with today?.IsAny\\n.IsAny\\nI am a helpful assistant designed to assist with various tasks. What can I help you with today?.IsAny\\n.IsAny\\nI am a helpful assistant designed to assist with various tasks. What can I help you with today?.IsAny\\n.IsAny\\nI am a helpful assistant designed to assist with various tasks. What can I help you with today?.IsAny\\n.IsAny\\nI am a helpful assistant designed to assist with various tasks. What can I help you with today?.IsAny\\n.IsAny\\nI am a helpful assistant designed to assist'}]}]"
            ]
          },
          "metadata": {},
          "execution_count": 1
        }
      ],
      "source": [
        "# Use a pipeline as a high-level helper\n",
        "from transformers import pipeline\n",
        "\n",
        "messages = [\n",
        "    {\"role\": \"user\", \"content\": \"Who are you?\"},\n",
        "]\n",
        "pipe = pipeline(\"text-generation\", model=\"Qwen/Qwen2.5-1.5B\")\n",
        "pipe(messages)"
      ]
    },
    {
      "cell_type": "code",
      "source": [
        "import json\n",
        "import pandas as pd\n",
        "from google.colab import files\n",
        "# Initialize the pipeline once\n",
        "generator = pipeline(\"text-generation\", model=\"Qwen/Qwen2.5-1.5B\")\n",
        "\n",
        "def generate_answer(question, num_samples):\n",
        "    \"\"\"\n",
        "    Generates multiple answers for a given question using the model pipeline.\n",
        "    \"\"\"\n",
        "    # Format the prompt\n",
        "    prompt = f\"أجب على السؤال التالي بجملة واحدة موجزة ولكن كاملة.\\nQuestion: {question}\\nAnswer:\"\n",
        "\n",
        "    # Generate the first 9 answers with temperature=1.0\n",
        "    outputs_high_temp = generator(\n",
        "        prompt,\n",
        "        max_new_tokens=100,\n",
        "        truncation=True,\n",
        "        temperature=1.0,\n",
        "        do_sample=True,\n",
        "        top_p=0.95,\n",
        "        num_return_sequences=num_samples - 1\n",
        "    )\n",
        "\n",
        "    # Generate the last answer\n",
        "    outputs_low_temp = generator(\n",
        "        prompt,\n",
        "        max_new_tokens=100,\n",
        "        truncation=True,\n",
        "        temperature=0.1,\n",
        "        do_sample=True,\n",
        "        top_p=0.95,\n",
        "        num_return_sequences=1\n",
        "    )\n",
        "\n",
        "    # Combine the results\n",
        "    responses = [\n",
        "        output['generated_text'].split(\"Answer:\")[-1].strip() for output in outputs_high_temp\n",
        "    ] + [\n",
        "        outputs_low_temp[0]['generated_text'].split(\"Answer:\")[-1].strip()\n",
        "    ]\n",
        "\n",
        "    return responses\n",
        "\n"
      ],
      "metadata": {
        "colab": {
          "base_uri": "https://localhost:8080/"
        },
        "id": "JAuoYRahCgod",
        "outputId": "c0c9ea44-39b2-4fd2-f8c2-04b2b8136994"
      },
      "execution_count": 2,
      "outputs": [
        {
          "output_type": "stream",
          "name": "stderr",
          "text": [
            "Device set to use cuda:0\n"
          ]
        }
      ]
    },
    {
      "cell_type": "code",
      "source": [
        "\n",
        "\n",
        "\n",
        "def main():\n",
        "    \"\"\"\n",
        "    Main function to upload the dataset, process it, and generate answers.\n",
        "    \"\"\"\n",
        "    from google.colab import drive, files\n",
        "    import json\n",
        "    import pandas as pd\n",
        "    from IPython.display import FileLink\n",
        "    drive.mount('/content/drive')\n",
        "    # Replace with the path to your dataset on Google Drive\n",
        "    file_path = f'/content/drive/MyDrive/test-open.jsonl'\n",
        "\n",
        "    # Step 1: Upload the file\n",
        "    #uploaded = files.upload()\n",
        "\n",
        "    # Step 2: Read the uploaded file\n",
        "    test_set = file_path\n",
        "    data = []\n",
        "    with open(test_set, 'r', encoding='utf-8') as file:\n",
        "        for line in file:\n",
        "            data.append(json.loads(line))\n",
        "\n",
        "    # Step 3: Convert to DataFrame\n",
        "    df = pd.DataFrame(data)\n",
        "\n",
        "    # Initialize an empty list to store the results\n",
        "    results = []\n",
        "\n",
        "    # Step 4: Iterate over the dataset and generate answers\n",
        "    for index, row in df.sample(n=50).iterrows():\n",
        "        question = row['question']\n",
        "        original_answer = row.get('answer', \"\")  # Use empty string if no original answer provided\n",
        "        question_id = row.get('question_id', index)  # Use index if no question_id provided\n",
        "\n",
        "        # Generate 10 answers for the 50 questions\n",
        "        generated_answers = generate_answer(question=question, num_samples=10)\n",
        "\n",
        "\n",
        "\n",
        "        # Append the results\n",
        "        results.append({\n",
        "            \"question_id\": question_id,\n",
        "            \"question\": question,\n",
        "            \"original_answer\": original_answer,\n",
        "            \"generated_answers\": generated_answers\n",
        "        })\n",
        "\n",
        "    # Convert the results to a DataFrame\n",
        "    results_df = pd.DataFrame(results)\n",
        "    print(results_df)\n",
        "    filename = \"generated_answers.json\"\n",
        "    # Step 3: Save results to a JSON file\n",
        "    with open(filename, \"w\", encoding=\"utf-8\") as json_file:\n",
        "          json.dump(results, json_file, ensure_ascii=False, indent=4)\n",
        "\n",
        "    print(\"Generated answers saved to 'generated_answers.json'\")\n",
        "    display(FileLink(filename))\n",
        "    files.download(\"generated_answers.json\")\n",
        "\n",
        "    # Run the main function\n",
        "if __name__ == \"__main__\":\n",
        "    main()\n"
      ],
      "metadata": {
        "colab": {
          "base_uri": "https://localhost:8080/",
          "height": 1000
        },
        "id": "L7ZHvgQwCrIX",
        "outputId": "e0d7639e-ae4d-4b23-c0af-2efbbc689154"
      },
      "execution_count": 3,
      "outputs": [
        {
          "output_type": "stream",
          "name": "stdout",
          "text": [
            "Drive already mounted at /content/drive; to attempt to forcibly remount, call drive.mount(\"/content/drive\", force_remount=True).\n"
          ]
        },
        {
          "output_type": "stream",
          "name": "stderr",
          "text": [
            "You seem to be using the pipelines sequentially on GPU. In order to maximize efficiency please use a dataset\n"
          ]
        },
        {
          "output_type": "stream",
          "name": "stdout",
          "text": [
            "   question_id                                           question  \\\n",
            "0      1190890  من كان يقود القوات الرومانية في معركة مونس غرا...   \n",
            "1      1116911       ما هي الاستخدامات الشائعة لمقياس رينجلمان؟\\n   \n",
            "2      1173298                           متي ولد وليامز ريفيروس ؟   \n",
            "3       960262  ما هي المساحة التي تغطيها الجبال في محافظة ناغ...   \n",
            "4      1183267            ما هو VBX وما علاقته بـ Visual Basic؟\\n   \n",
            "5      1175973  ما هي العلامات والأعراض التي يعاني منها الأطفا...   \n",
            "6      1069350                كم عدد الجذور القرآنية الكاملة؟\\n\\n   \n",
            "7       960389                                      ما هي بابل؟\\n   \n",
            "8      1083028                        ما هي أغنية الخاتمة للأنمي؟   \n",
            "9      1123968  من هو اللاعب الذي تغلب عليه لوكا بريسيل في نها...   \n",
            "10      991898                            من أين جاء الماتابيون ؟   \n",
            "11      952941  ما هي المدة الزمنية التي عاشها آخر سلف مشترك ل...   \n",
            "12     1167674                                متي ولد بول هامشير؟   \n",
            "13     1158950  ما هو جنس الفطر الأكثر شهرة في فصيلة أمانيتية؟...   \n",
            "14     1166999  ما هي الإنجازات البارزة التي حققها المرصد الحض...   \n",
            "15     1100100                  لماذا يسمى الملعب بهذا الاسم؟\\n\\n   \n",
            "16     1186857       من كان القائد الفرنسي في معركة دِرِيسْدِن؟\\n   \n",
            "17     1161012                 متي تم توسعة دبي فستيفال سيتي مول؟   \n",
            "18      965679  ما هو الرمز اللاتيني الذي يُستخدم لتمثيل المقا...   \n",
            "19     1159734  متي حصل علي البكالوريوس من كلية الفنون الجميلة...   \n",
            "20     1027020                 كم يبعد جامع براثا عن مركز المدينة   \n",
            "21     1087147                    ما هي جنسية سادو علي وارسامي؟\\n   \n",
            "22     1056366            ما هي مركز لعب هولمغرين في كرة القدم؟\\n   \n",
            "23     1068587  ما الذي قدمته بريطانيا لابن سعود في تلك الفترة؟\\n   \n",
            "24     1124491                متي تولي ذو الفقار علي بوتو السلطة؟   \n",
            "25     1134135  ما هي منطقة الحسكة وكيف كانت تستخدم قبل وصول ا...   \n",
            "26     1118848  ما هو السبب وراء تسمية هذه البطولة بـ \"بطولة إ...   \n",
            "27      966602  ما هي المطالب التي يطرحها الباسك للانفصال عن إ...   \n",
            "28     1064158            ما هو العمر الوسطي للسكان في إدجيمور؟\\n   \n",
            "29      977759  كم عدد الأيام التي تبقى بعد يوم 22 أكتوبر لنها...   \n",
            "30      915186           ما هو مفهوم ديمقراطية المؤتمرات الشعبية؟   \n",
            "31     1182039                            ما هي شهادة سماح إدريس؟   \n",
            "32     1064198    ما هي الأندية التي لعب فيها جيوفاني تاورمينا؟\\n   \n",
            "33     1195114                          ماذا عن مشاركاته الدولية؟   \n",
            "34      993042       كيف يتم تعيين الوالي في الولايات التونسية؟\\n   \n",
            "35     1069544                     في أي مناطق يمارس فن الحدري؟\\n   \n",
            "36     1160058                        متى تأسس سوق السفر العربي ؟   \n",
            "37      675088        كم عدد الأعضاء الأصليين في الأمم المتحدة؟\\n   \n",
            "38     1128684  ما هي العلاقة بين الخلايا المغلفة وتقليل الحاج...   \n",
            "39     1197092      في أي مركز يلعب جوزيبي بيسانو في كرة القدم؟\\n   \n",
            "40     1190484                            أين ولد أنطونيو فاليرو؟   \n",
            "41     1139950  ما هي الحادثة التي وقعت في بحيرة شالا عام 2002...   \n",
            "42     1168472       من هو البطل الحالي لبطولة دوري أبطال آسيا؟\\n   \n",
            "43      700752                  ما هي اللغة الرسمية لليتوانيين؟\\n   \n",
            "44     1184673  ما هي الجهات والمؤسسات التي عمل فيها آلان بنتو...   \n",
            "45     1151766  متى تأسست مكتبة نيوزيلندا الوطنية ومن كانت الك...   \n",
            "46     1189030  ما هي الفئات الرئيسية للانغماس وفقًا لإرنست دب...   \n",
            "47     1084109    ما هي المعدلات المناخية العامة في إقليم مارا؟\\n   \n",
            "48      970828                                    من فتح بيزنطة ؟   \n",
            "49     1035491    ما هي الروايات الثلاث المتعلقة بمولد الشافعي؟\\n   \n",
            "\n",
            "                                      original_answer  \\\n",
            "0                     الجِنرال نيياس جولياس أغريقولا،   \n",
            "1   تستخدم إدارة هونغ كونغ البحرية نسخة ذات أربعة ...   \n",
            "2                                      20 نوفمبر 1992   \n",
            "3   معظم مساحة المحافظة حيث يوجد فيها 9 جبال من بي...   \n",
            "4   1991، قدمت ميكروسوفت ملحقات فيجوال بيسك (VBX) ...   \n",
            "5   يعاني الأطفال المصابون بضمور المحور العصبي الط...   \n",
            "6                                          77430 كلمة   \n",
            "7                       عواصم حضارة بِلادُ الرافِدين.   \n",
            "8                                     بعنوان \"ميفيستو   \n",
            "9                                          مارك سيلبي   \n",
            "10                             قدِموا أصلاً من فلسطين   \n",
            "11                                       14 مليون عام   \n",
            "12                                     20 سبتمبر 1981   \n",
            "13                                       أمانيتا بيرس   \n",
            "14   في مارس 2017 حصل المرصد الحضري بمدينة الرياض ...   \n",
            "15          اسمه مستوحى من مدينة سترتفورد القريبة منه   \n",
            "16                              فيلق المارشال سان سير   \n",
            "17                             لكن جرى توسعته في 2017   \n",
            "18  وتسمى بالمقاومية الكهربائية النوعية أو المقاوم...   \n",
            "19                                           عام 1986   \n",
            "20                                              10 كم   \n",
            "21                                  صومالية - أمريكية   \n",
            "22                                        مركز الهجوم   \n",
            "23   مدته بالأسلحة والمال من أجل صراعه ضد الرشيديي...   \n",
            "24                                          عام 1973،   \n",
            "25  كانت محافظة الحسكة (التي كانت تُعرف آنذاك بمقا...   \n",
            "26                              لأسباب تتعلق بالرعاية   \n",
            "27  أشهر المنظمات الانفصالية، الموصوفة بالإرهابية ...   \n",
            "28                                         34.7 عاماً   \n",
            "29                يبقى بعده 70 يومًا على انتهاء السنة   \n",
            "30  هو مفهوم صاغه معمر القذافي في كتابه الكتاب الأ...   \n",
            "31  الدكتوراه من جامعة كولومبيا في نيويورك في دراس...   \n",
            "32   لعب مع نادي ألساندريا ونادي سامبدوريا ونادي كومو   \n",
            "33                     شارك مع منتخب تركيا تحت 21 سنة   \n",
            "34  كان يعينه رئيس الجمهورية التونسية باقتراح من و...   \n",
            "35                                 بمنطقة مكة المكرمة   \n",
            "36                                               1994   \n",
            "37                                                 49   \n",
            "38   بل توفر أيضًا علاقة سطح إلى حجم عالية تتيح نق...   \n",
            "39                                     في مركز الهجوم   \n",
            "40                                   مدريد في إسبانيا   \n",
            "41   قُتلت امرأة بريطانية تبلغ من العمر 18 عامًا ف...   \n",
            "42                             هو نادي الهلال السعودي   \n",
            "43                                         الليتوانية   \n",
            "44  مديرًا ونائبًا لرئيس مؤسسة المرافق العامة لبنو...   \n",
            "45                                          عام 1856    \n",
            "46  ثلاث فئات رئيسية: الحضور. الحضور، وهو مصطلح مش...   \n",
            "47                                   28.50 درجة مئوية   \n",
            "48                                        (إسلام بول)   \n",
            "49  في بلد مولده، والمشهور أنه ولد بغزة، ويُحتمل أ...   \n",
            "\n",
            "                                    generated_answers  \n",
            "0   [قائد القوات الرومانية في معركة مونس غراوبيوس ...  \n",
            "1   [رينجلمان.scale. يتم استخدامه لوصف مستوى سائلة...  \n",
            "2   [ولد وليامز ريفيروس عام 1878\\nالجواب هو: ولد و...  \n",
            "3   [مساحته 1000 كيلومتر مربع, لا إجابة. لان الجبا...  \n",
            "4   [Visual Basic Object-Volume-XML, abbreviated a...  \n",
            "5   [الأطفال المصابون بضمور المحور العصبي الطفلي ي...  \n",
            "6   [613., عددها 1394., 6536\\n\\nThis question is a...  \n",
            "7   [بابل هي أقدم文明城市 في العالم، حيث بدأها سكان أو...  \n",
            "8   [أغنية الخاتمة للأنمي هي \"Bailando\", والتي قدم...  \n",
            "9   [Luka Belić.\\n\\nملاحظة: هذه الجملة موجزة ولكن ...  \n",
            "10  [من بحث جيوليفس بنت ريدويل., الماتابيون من أصل...  \n",
            "11  [آخر سلف مشترك للقردة العليا قادم من الولايات ...  \n",
            "12  [بول هامشير ولد في 22 أغسطس 1930., بول هامشير ...  \n",
            "13  [Pseudomonas, الأبلة., جنس الفطر الأكثر شهرة ف...  \n",
            "14  [المرصد الحضري بمدينة الرياض اسهم بإنشاء خدمة ...  \n",
            "15  [, الملعب يسمى بهذا الاسم لأنه يحتوي على العدي...  \n",
            "16  [Napoleon Bonaparte., الجنرال كارلو دي بروني.,...  \n",
            "17  [تم توسعة مول دبي فستيفال سيتي عام 2015., مايك...  \n",
            "18  [R L, الرمز اللاتيني الذي يُستخدم لتمثيل المقا...  \n",
            "19  [I obtained a Bachelor's degree in Fine Arts f...  \n",
            "20  [449979 في الجمعية تراث.\\n\\nأجب على السؤ, 23 ك...  \n",
            "21  [سادو علي وارسامي من الجنسية الأرمينية., سادو ...  \n",
            "22  [هولمغرين هو مركز لعب كرة القدم في إنجلترا., م...  \n",
            "23  [بريطانيا قدمت لابن سعود الكثير من الأشياء الت...  \n",
            "24  [ذو الفقار كان علي بوتو قد تولى السلطة في عام ...  \n",
            "25  [, الحسكة هي قرية في إقليم نهر الفرات في شمال ...  \n",
            "26  [عالم الرياضة تصدر عدداً هاماً من التقارير وال...  \n",
            "27  [الباسك提出脱离西班牙和法国以维持其自治地位和保护其文化遗产。, بأسك للانف...  \n",
            "28  [23.7 years., 13.5 years. \\n\\nيتم إدجيمور من ق...  \n",
            "29  [يبلغ 281 يومًا., 16, 22-31 = 9, ثلاثة أشهر و5...  \n",
            "30  [, ديمقراطية المؤتمرات الشعبية هي مفهوم ديمقرا...  \n",
            "31  [شهادة سماح إدريس هي الشهادة الوحيدة التي授予ه، ...  \n",
            "32  [جيوفاني توريني من أصل تونسي، لعب في كرة القدم...  \n",
            "33  [بحث مع الوقت المعتدل., , سوق إعلانات العقار ا...  \n",
            "34  [تم تعيين الوالي في الولايات التونسية من خلال ...  \n",
            "35  [في أي مناطق يمارس فن الحدري يتم تدريس وتطور ف...  \n",
            "36  [سوق السفر العربي استطاع أن يتم إنشاءه وتطوره ...  \n",
            "37  [193., 193.\\n\\nتم كشف النقاب عن السعر الرسمي ل...  \n",
            "38  [مناعة المغلفة، الأدوية المثبطة للمناعة، الخلا...  \n",
            "39  [في مركز مركز الممرات الالفرتينية., في مركز \"إ...  \n",
            "40  [ينحدر الاسم فاليرو من فلسطين المحتلة., أنطوني...  \n",
            "41  [في عام 2002، وقعت الحادثة التي أودت بحياة 25 ...  \n",
            "42  [Neymar., The current champion of the Asian Ch...  \n",
            "43  [اللاتينية., اللاتينية هي اللغة الرسمية لليتوا...  \n",
            "44  [من 2000 إلى 2005، شغل بنتوليلا منصب الخبير ال...  \n",
            "45  [النتاجات السابقة 2022.02.13 19:17, متى تأسست ...  \n",
            "46  [الفئات الرئيسية للانغماس وفقًا لإرنست دبليو آ...  \n",
            "47  [لم أجد المعلومات الكافية حول المعدلات المناخي...  \n",
            "48  [الإمبراطور فولكان سل سردار بيزنطي, خارق تألف،...  \n",
            "49  [الروايات الثلاث المتعلقة بمولد الشافعي هى (ال...  \n",
            "Generated answers saved to 'generated_answers.json'\n"
          ]
        },
        {
          "output_type": "display_data",
          "data": {
            "text/plain": [
              "/content/generated_answers.json"
            ],
            "text/html": [
              "<a href='generated_answers.json' target='_blank'>generated_answers.json</a><br>"
            ]
          },
          "metadata": {}
        },
        {
          "output_type": "display_data",
          "data": {
            "text/plain": [
              "<IPython.core.display.Javascript object>"
            ],
            "application/javascript": [
              "\n",
              "    async function download(id, filename, size) {\n",
              "      if (!google.colab.kernel.accessAllowed) {\n",
              "        return;\n",
              "      }\n",
              "      const div = document.createElement('div');\n",
              "      const label = document.createElement('label');\n",
              "      label.textContent = `Downloading \"${filename}\": `;\n",
              "      div.appendChild(label);\n",
              "      const progress = document.createElement('progress');\n",
              "      progress.max = size;\n",
              "      div.appendChild(progress);\n",
              "      document.body.appendChild(div);\n",
              "\n",
              "      const buffers = [];\n",
              "      let downloaded = 0;\n",
              "\n",
              "      const channel = await google.colab.kernel.comms.open(id);\n",
              "      // Send a message to notify the kernel that we're ready.\n",
              "      channel.send({})\n",
              "\n",
              "      for await (const message of channel.messages) {\n",
              "        // Send a message to notify the kernel that we're ready.\n",
              "        channel.send({})\n",
              "        if (message.buffers) {\n",
              "          for (const buffer of message.buffers) {\n",
              "            buffers.push(buffer);\n",
              "            downloaded += buffer.byteLength;\n",
              "            progress.value = downloaded;\n",
              "          }\n",
              "        }\n",
              "      }\n",
              "      const blob = new Blob(buffers, {type: 'application/binary'});\n",
              "      const a = document.createElement('a');\n",
              "      a.href = window.URL.createObjectURL(blob);\n",
              "      a.download = filename;\n",
              "      div.appendChild(a);\n",
              "      a.click();\n",
              "      div.remove();\n",
              "    }\n",
              "  "
            ]
          },
          "metadata": {}
        },
        {
          "output_type": "display_data",
          "data": {
            "text/plain": [
              "<IPython.core.display.Javascript object>"
            ],
            "application/javascript": [
              "download(\"download_216fa84b-81e6-4b85-af69-4c1f7ab05ace\", \"generated_answers.json\", 120177)"
            ]
          },
          "metadata": {}
        }
      ]
    }
  ]
}