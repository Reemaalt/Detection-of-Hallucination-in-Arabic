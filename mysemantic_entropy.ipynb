{
  "nbformat": 4,
  "nbformat_minor": 0,
  "metadata": {
    "colab": {
      "provenance": [],
      "machine_shape": "hm",
      "gpuType": "A100",
      "authorship_tag": "ABX9TyNPlqoVUy+H20INy5BFzoLb",
      "include_colab_link": true
    },
    "kernelspec": {
      "name": "python3",
      "display_name": "Python 3"
    },
    "language_info": {
      "name": "python"
    },
    "accelerator": "GPU"
  },
  "cells": [
    {
      "cell_type": "markdown",
      "metadata": {
        "id": "view-in-github",
        "colab_type": "text"
      },
      "source": [
        "<a href=\"https://colab.research.google.com/github/Reemaalt/Detection-of-Hallucination-in-Arabic/blob/main/mysemantic_entropy.ipynb\" target=\"_parent\"><img src=\"https://colab.research.google.com/assets/colab-badge.svg\" alt=\"Open In Colab\"/></a>"
      ]
    },
    {
      "cell_type": "markdown",
      "source": [
        "- Estimate the probability of each cluster.\n",
        "- Use Monte Carlo integration to compute semantic entropy."
      ],
      "metadata": {
        "id": "e6i8_59fWv9q"
      }
    },
    {
      "cell_type": "code",
      "source": [
        "import json\n",
        "import os\n",
        "import numpy as np\n",
        "import torch\n",
        "from google.colab import files"
      ],
      "metadata": {
        "id": "Xj6HD8gwVBMK"
      },
      "execution_count": null,
      "outputs": []
    },
    {
      "cell_type": "code",
      "execution_count": null,
      "metadata": {
        "colab": {
          "base_uri": "https://localhost:8080/"
        },
        "id": "4ZctZYrj3GIh",
        "outputId": "bdb06dea-c830-4e00-92f8-28378c087c2e"
      },
      "outputs": [
        {
          "output_type": "stream",
          "name": "stdout",
          "text": [
            "Loaded 100 questions with clustered answers.\n"
          ]
        }
      ],
      "source": [
        "# Load clustered responses\n",
        "file_path = \"entailment_clusters_Llama3.1-mlqa.json\"\n",
        "with open(file_path, \"r\", encoding=\"utf-8\") as f:\n",
        "    clustered_data = json.load(f)\n",
        "\n",
        "print(f\"Loaded {len(clustered_data)} questions with clustered answers.\")\n"
      ]
    },
    {
      "cell_type": "code",
      "source": [
        "#since Since we dont have log likelihoods, estimate cluster probabilities by assigning uniform probability\n",
        "def compute_cluster_uniform_probabilities(clusters):\n",
        "    total_responses = sum(len(cluster) for cluster in clusters)\n",
        "    probabilities = [len(cluster) / total_responses for cluster in clusters]\n",
        "    return probabilities\n"
      ],
      "metadata": {
        "id": "m6EB1MWEXKpM"
      },
      "execution_count": null,
      "outputs": []
    },
    {
      "cell_type": "markdown",
      "source": [
        "Instead of assuming equal probability, the function:\n",
        "\n",
        "1.   Converts log probabilities to normal\n",
        "  probabilities using np.exp(log_prob).\n",
        "2.   Sums the probabilities within each cluster.\n",
        "3. Normalizes the probabilities so they sum to 1.\n"
      ],
      "metadata": {
        "id": "U9fKPVybUFIL"
      }
    },
    {
      "cell_type": "code",
      "source": [
        "def compute_cluster_log_probabilities(clusters, response_log_probs):\n",
        "    \"\"\"\n",
        "    Computes cluster probabilities by summing the exponentiated log probabilities of responses in each cluster.\n",
        "\n",
        "    Parameters:\n",
        "    - clusters: List of clusters, where each cluster is a list of response indices.\n",
        "    - response_log_probs: List containing log probabilities log(p(s|x)) for each response.\n",
        "\n",
        "    \"\"\"\n",
        "    cluster_probs = []\n",
        "\n",
        "    for cluster in clusters:\n",
        "        # Compute probability of each cluster by summing p(s|x) = exp(log_prob)\n",
        "        cluster_prob = sum(np.exp(response_log_probs[idx]) for idx in cluster)\n",
        "        cluster_probs.append(cluster_prob)\n",
        "\n",
        "    # Normalize to ensure probabilities sum to 1\n",
        "    total_prob = sum(cluster_probs)\n",
        "    return [prob / total_prob for prob in cluster_probs] if total_prob > 0 else cluster_probs\n"
      ],
      "metadata": {
        "id": "kon63tgWTmmV"
      },
      "execution_count": null,
      "outputs": []
    },
    {
      "cell_type": "code",
      "source": [
        "#use Monte Carlo approximation based on Equation (3)\n",
        "def compute_semantic_entropy(probabilities):\n",
        "    probabilities = np.array(probabilities)\n",
        "    entropy = -np.sum(probabilities * np.log(probabilities))\n",
        "    return entropy\n"
      ],
      "metadata": {
        "id": "85_f8N40XbPP"
      },
      "execution_count": null,
      "outputs": []
    },
    {
      "cell_type": "code",
      "source": [
        "#Compute SE\n",
        "entropy_results = {}\n",
        "\n",
        "for question_id, data in clustered_data.items():\n",
        "    clusters = data[\"clusters\"]\n",
        "\n",
        "    # Step 1: Compute cluster probabilities\n",
        "    probabilities = compute_cluster_uniform_probabilities(clusters)\n",
        "\n",
        "    # Step 2: Compute semantic entropy\n",
        "    entropy = compute_semantic_entropy(probabilities)\n",
        "\n",
        "    # Store results\n",
        "    entropy_results[question_id] = {\n",
        "        \"question\": data[\"question\"],\n",
        "        \"semantic_entropy\": entropy,\n",
        "        \"num_clusters\": len(clusters),\n",
        "        \"probabilities\": probabilities\n",
        "    }\n",
        "\n",
        "# Save the results\n",
        "output_file = \"semantic_entropy_Llama3.1-mlqa_results.json\"\n",
        "with open(output_file, \"w\", encoding=\"utf-8\") as f:\n",
        "    json.dump(entropy_results, f, ensure_ascii=False, indent=4)\n",
        "\n",
        "files.download(output_file)\n",
        "print(f\"Semantic entropy results saved to {output_file}\")\n",
        "\n"
      ],
      "metadata": {
        "colab": {
          "base_uri": "https://localhost:8080/"
        },
        "id": "rO9ZNtBJV0IR",
        "outputId": "7b486e86-725c-429f-efb3-a0ade35bb4eb"
      },
      "execution_count": null,
      "outputs": [
        {
          "output_type": "stream",
          "name": "stdout",
          "text": [
            "Semantic entropy results saved to semantic_entropy_Llama3.1-mlqa_results.json\n"
          ]
        }
      ]
    }
  ]
}